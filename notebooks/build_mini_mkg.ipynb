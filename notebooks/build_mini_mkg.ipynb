{
  "cells": [
    {
      "cell_type": "markdown",
      "metadata": {},
      "source": [
        "# Mini Materials Knowledge Graph — Common Semiconductors\n",
        "**What I'm building:** a tiny pipeline that turns a small semiconductors table into **RDF triples**, then I query it using **SPARQL**. I keep the ontology minimal and readable."
      ]
    },
    {
      "cell_type": "markdown",
      "metadata": {},
      "source": [
        "\n",
        "## Some basic terminologies\n",
        "- **Ontology** → my small schema + vocabulary for this domain (classes + relations).\n",
        "- **RDF triple** → one fact written as `subject — predicate — object`.\n",
        "- **Namespace** → URL prefix so my identifiers are unique.\n",
        "- **SPARQL** → my query tool for RDF graphs (like SQL but for triples).\n",
        "- **Turtle (.ttl)** → compact text format to store RDF.\n",
        "- **IRI(Internationalized Resource Identifier)** → a **Unicode string** that serves as a unique, global name or identifier for an entity.\n"
      ]
    },
    {
      "cell_type": "markdown",
      "id": "bfbaab76",
      "metadata": {},
      "source": [
        "**Imports**"
      ]
    },
    {
      "cell_type": "code",
      "execution_count": null,
      "id": "d4065d28",
      "metadata": {},
      "outputs": [
        {
          "name": "stdout",
          "output_type": "stream",
          "text": [
            "OK\n"
          ]
        }
      ],
      "source": [
        "# import os; print(\"OK\" if os.getenv(\"OPENAI_API_KEY\") else \"MISSING\")"
      ]
    },
    {
      "cell_type": "code",
      "execution_count": 1,
      "metadata": {},
      "outputs": [
        {
          "data": {
            "text/plain": [
              "True"
            ]
          },
          "execution_count": 1,
          "metadata": {},
          "output_type": "execute_result"
        }
      ],
      "source": [
        "import pandas as pd\n",
        "from rdflib import Graph, Namespace, URIRef, Literal\n",
        "from rdflib.namespace import RDF, RDFS, XSD\n",
        "from pathlib import Path\n",
        "import re\n",
        "from dotenv import load_dotenv\n",
        "load_dotenv()"
      ]
    },
    {
      "cell_type": "markdown",
      "id": "093431dc",
      "metadata": {},
      "source": [
        "## 1) Setup\n",
        "read a tiny CSV and map it into RDF using `rdflib`.\n"
      ]
    },
    {
      "cell_type": "code",
      "execution_count": 2,
      "id": "0c77e382",
      "metadata": {},
      "outputs": [
        {
          "name": "stdout",
          "output_type": "stream",
          "text": [
            "Using data: E:\\Projects\\Semantic_models_for-MSE\\data\\semiconductors_small.csv\n"
          ]
        }
      ],
      "source": [
        "DATA = Path(\"../data/semiconductors_small.csv\")   # CSV lives in the repo\n",
        "TTL_OUT = Path(\"../data/semiconductors_small.ttl\")# RDF Turtle output\n",
        "print(\"Using data:\", DATA.resolve())"
      ]
    },
    {
      "cell_type": "markdown",
      "metadata": {},
      "source": [
        "\n",
        "## 2) Ontology skeleton (small and pragmatic)\n",
        "a few classes and properties that I actually need for the initial CSV i am using.  \n",
        "Classes: `Material`, `SynthesisMethod`, `CrystalStructure`, `Property`  \n",
        "Properties:  \n",
        "- data: `hasBandGap` (float eV), `hasLatticeConstant` (float Å)  \n",
        "- object: `hasCrystalStructure`, `synthesizedBy`\n"
      ]
    },
    {
      "cell_type": "code",
      "execution_count": 3,
      "metadata": {},
      "outputs": [
        {
          "name": "stdout",
          "output_type": "stream",
          "text": [
            "Ontology initialized. Triples so far: 16\n"
          ]
        }
      ],
      "source": [
        "g = Graph()\n",
        "\n",
        "# Namespace for my identifiers (can switch to a real domain later)\n",
        "EX = Namespace(\"http://example.org/mse#\")\n",
        "g.bind(\"ex\", EX)\n",
        "g.bind(\"rdfs\", RDFS)\n",
        "g.bind(\"xsd\", XSD)\n",
        "\n",
        "# Classes\n",
        "Material         = EX.Material\n",
        "SynthesisMethod  = EX.SynthesisMethod\n",
        "CrystalStructure = EX.CrystalStructure\n",
        "Property         = EX.Property\n",
        "\n",
        "for cls in [Material, SynthesisMethod, CrystalStructure, Property]:\n",
        "    g.add((cls, RDF.type, RDFS.Class))\n",
        "\n",
        "# Properties\n",
        "hasBandGap          = EX.hasBandGap\n",
        "hasLatticeConstant  = EX.hasLatticeConstant\n",
        "hasCrystalStructure = EX.hasCrystalStructure\n",
        "synthesizedBy       = EX.synthesizedBy\n",
        "\n",
        "for prop in [hasBandGap, hasLatticeConstant, hasCrystalStructure, synthesizedBy]:\n",
        "    g.add((prop, RDF.type, RDF.Property))\n",
        "\n",
        "# Light domain/range annotations (sanity helpers for later validation)\n",
        "g.add((hasBandGap, RDFS.domain, Material));         g.add((hasBandGap, RDFS.range, XSD.float))\n",
        "g.add((hasLatticeConstant, RDFS.domain, Material)); g.add((hasLatticeConstant, RDFS.range, XSD.float))\n",
        "g.add((hasCrystalStructure, RDFS.domain, Material));g.add((hasCrystalStructure, RDFS.range, CrystalStructure))\n",
        "g.add((synthesizedBy, RDFS.domain, Material));      g.add((synthesizedBy, RDFS.range, SynthesisMethod))\n",
        "\n",
        "print(\"Ontology initialized. Triples so far:\", len(g))"
      ]
    },
    {
      "cell_type": "markdown",
      "metadata": {},
      "source": [
        "## 3) Load CSV and mint entities  \n",
        "create IRIs (Internationalized Resource Identifier) from labels (simple normalization) and assert triples for each row."
      ]
    },
    {
      "cell_type": "code",
      "execution_count": 4,
      "metadata": {},
      "outputs": [
        {
          "name": "stdout",
          "output_type": "stream",
          "text": [
            "After ingest: triples = 76\n"
          ]
        }
      ],
      "source": [
        "# --- 1) Read CSV with correct dtypes ---\n",
        "# Only force the TEXT columns to string dtype. Let numeric columns be inferred as float.\n",
        "STRING_COLS = [\"material\", \"crystal_structure\", \"typical_synthesis\"]\n",
        "df = pd.read_csv(DATA, dtype={col: \"string\" for col in STRING_COLS})\n",
        "\n",
        "# Ensure numeric columns are numeric (coerce bad cells to NaN gracefully)\n",
        "df[\"band_gap_eV\"] = pd.to_numeric(df.get(\"band_gap_eV\"), errors=\"coerce\")\n",
        "df[\"lattice_const_A\"] = pd.to_numeric(df.get(\"lattice_const_A\"), errors=\"coerce\")\n",
        "\n",
        "# --- 2) Helpers ---\n",
        "def _slugify(text: str) -> str:\n",
        "    # normalize to an IRI-safe slug\n",
        "    text = text.strip().replace(\" \", \"_\").replace(\"(\", \"\").replace(\")\", \"\").replace(\"/\", \"_\")\n",
        "    text = re.sub(r\"[^A-Za-z0-9_]\", \"_\", text)\n",
        "    return text\n",
        "\n",
        "def mint_entity(label, cls: URIRef, fallback_prefix: str, idx: int):\n",
        "    \"\"\"\n",
        "    label may be pandas NA/None/float NaN or a proper string.\n",
        "    If missing, mint a stable fallback IRI like ex:Material_42 and add a descriptive rdfs:label.\n",
        "    \"\"\"\n",
        "    if label is None or pd.isna(label):\n",
        "        safe = f\"{fallback_prefix}_{idx}\"\n",
        "        iri = EX[safe]\n",
        "        g.add((iri, RDF.type, cls))\n",
        "        g.add((iri, RDFS.label, Literal(f\"{fallback_prefix} #{idx}\")))\n",
        "        return iri\n",
        "\n",
        "    label_str = str(label)\n",
        "    safe = _slugify(label_str)\n",
        "    iri = EX[safe]\n",
        "    g.add((iri, RDF.type, cls))\n",
        "    g.add((iri, RDFS.label, Literal(label_str)))\n",
        "    return iri\n",
        "\n",
        "# --- 3) Ingest rows ---\n",
        "for i, row in df.iterrows():\n",
        "    mat = mint_entity(row.get(\"material\"),          Material,         \"Material\",         i)\n",
        "    cs  = mint_entity(row.get(\"crystal_structure\"), CrystalStructure, \"CrystalStructure\", i)\n",
        "    sm  = mint_entity(row.get(\"typical_synthesis\"), SynthesisMethod,  \"SynthesisMethod\",  i)\n",
        "\n",
        "    # Data properties (numbers): add if present\n",
        "    if pd.notna(row.get(\"band_gap_eV\")):\n",
        "        g.add((mat, hasBandGap, Literal(float(row[\"band_gap_eV\"]), datatype=XSD.float)))\n",
        "    if pd.notna(row.get(\"lattice_const_A\")):\n",
        "        g.add((mat, hasLatticeConstant, Literal(float(row[\"lattice_const_A\"]), datatype=XSD.float)))\n",
        "\n",
        "    # Object properties (links)\n",
        "    g.add((mat, hasCrystalStructure, cs))\n",
        "    g.add((mat, synthesizedBy, sm))\n",
        "\n",
        "print(\"After ingest: triples =\", len(g))"
      ]
    },
    {
      "cell_type": "markdown",
      "metadata": {},
      "source": [
        "## 4) Serialize to Turtle\n",
        "write the RDF graph to a `.ttl` file so it’s versionable in Git and easy to inspect.\n"
      ]
    },
    {
      "cell_type": "code",
      "execution_count": 5,
      "metadata": {},
      "outputs": [
        {
          "name": "stdout",
          "output_type": "stream",
          "text": [
            "Wrote: E:\\Projects\\Semantic_models_for-MSE\\data\\semiconductors_small.ttl\n"
          ]
        }
      ],
      "source": [
        "ttl_bytes = g.serialize(format=\"turtle\", encoding=\"utf-8\")  # returns bytes when encoding is set, else str\n",
        "TTL_OUT.write_bytes(ttl_bytes)\n",
        "print(\"Wrote:\", TTL_OUT.resolve())"
      ]
    },
    {
      "cell_type": "markdown",
      "metadata": {},
      "source": [
        "\n",
        "## 5) SPARQL queries (quick checks)\n",
        "query the in‑memory graph via `rdflib` to verify the ontology + data mapping.\n"
      ]
    },
    {
      "cell_type": "code",
      "execution_count": 6,
      "metadata": {},
      "outputs": [
        {
          "name": "stdout",
          "output_type": "stream",
          "text": [
            "(rdflib.term.Literal('Gallium Nitride'), rdflib.term.Literal('3.4', datatype=rdflib.term.URIRef('http://www.w3.org/2001/XMLSchema#float')))\n",
            "(rdflib.term.Literal('Silicon Carbide (4H)'), rdflib.term.Literal('3.26', datatype=rdflib.term.URIRef('http://www.w3.org/2001/XMLSchema#float')))\n",
            "(rdflib.term.Literal('Gallium Arsenide'), rdflib.term.Literal('1.42', datatype=rdflib.term.URIRef('http://www.w3.org/2001/XMLSchema#float')))\n",
            "(rdflib.term.Literal('Indium Phosphide'), rdflib.term.Literal('1.34', datatype=rdflib.term.URIRef('http://www.w3.org/2001/XMLSchema#float')))\n",
            "(rdflib.term.Literal('Silicon'), rdflib.term.Literal('1.12', datatype=rdflib.term.URIRef('http://www.w3.org/2001/XMLSchema#float')))\n"
          ]
        }
      ],
      "source": [
        "# Q1) Materials with band gap > 1 eV (descending)\n",
        "q1 = \"\"\"PREFIX ex: <http://example.org/mse#>\n",
        "SELECT ?material ?Eg\n",
        "WHERE {\n",
        "  ?m a ex:Material ;\n",
        "     rdfs:label ?material ;\n",
        "     ex:hasBandGap ?Eg .\n",
        "  FILTER(?Eg > 1.0)\n",
        "}\n",
        "ORDER BY DESC(?Eg)\n",
        "\"\"\"\n",
        "for row in g.query(q1, initNs={\"rdfs\": RDFS}):\n",
        "    print(row)"
      ]
    },
    {
      "cell_type": "code",
      "execution_count": 7,
      "metadata": {},
      "outputs": [
        {
          "name": "stdout",
          "output_type": "stream",
          "text": [
            "(rdflib.term.Literal('Indium Phosphide'),)\n",
            "(rdflib.term.Literal('Gallium Nitride'),)\n"
          ]
        }
      ],
      "source": [
        "# Q2) Materials synthesized by MOCVD\n",
        "q2 = \"\"\"PREFIX ex: <http://example.org/mse#>\n",
        "SELECT ?material\n",
        "WHERE {\n",
        "  ?m a ex:Material ;\n",
        "     rdfs:label ?material ;\n",
        "     ex:synthesizedBy ?meth .\n",
        "  ?meth rdfs:label \"MOCVD\" .\n",
        "}\n",
        "\"\"\"\n",
        "for row in g.query(q2, initNs={\"rdfs\": RDFS}):\n",
        "    print(row)"
      ]
    },
    {
      "cell_type": "code",
      "execution_count": 8,
      "metadata": {},
      "outputs": [
        {
          "name": "stdout",
          "output_type": "stream",
          "text": [
            "(rdflib.term.Literal('Silicon'),)\n",
            "(rdflib.term.Literal('Germanium'),)\n"
          ]
        }
      ],
      "source": [
        "\n",
        "# Q3) Materials with diamond cubic structure\n",
        "q3 = \"\"\"PREFIX ex: <http://example.org/mse#>\n",
        "SELECT ?material\n",
        "WHERE {\n",
        "  ?m a ex:Material ;\n",
        "     rdfs:label ?material ;\n",
        "     ex:hasCrystalStructure ?cs .\n",
        "  ?cs rdfs:label \"Diamond cubic\" .\n",
        "}\n",
        "\"\"\"\n",
        "for row in g.query(q3, initNs={\"rdfs\": RDFS}):\n",
        "    print(row)"
      ]
    },
    {
      "cell_type": "markdown",
      "metadata": {},
      "source": [
        "## 6) Creating safeguard for possible problems in data scrapping!!\n",
        "keep a few small rules here to catch obvious issues (labels missing, negative band gaps, etc.)."
      ]
    },
    {
      "cell_type": "code",
      "execution_count": 9,
      "metadata": {},
      "outputs": [
        {
          "name": "stdout",
          "output_type": "stream",
          "text": [
            "No obvious problems ✅\n"
          ]
        }
      ],
      "source": [
        "problems = []\n",
        "\n",
        "# A) All Materials should have labels\n",
        "for s in g.subjects(RDF.type, EX.Material):\n",
        "    if (s, RDFS.label, None) not in g:\n",
        "        problems.append(f\"Material without label: {s}\")\n",
        "\n",
        "# B) Band gap must be numeric and non-negative\n",
        "for s,p,o in g.triples((None, EX.hasBandGap, None)):\n",
        "    try:\n",
        "        if float(o) < 0:\n",
        "            problems.append(f\"Negative band gap for {s}\")\n",
        "    except Exception:\n",
        "        problems.append(f\"Non-numeric band gap for {s}: {o}\")\n",
        "\n",
        "print(\"No obvious problems ✅\" if not problems else \"Consistency problems:\")\n",
        "for x in problems:\n",
        "    print(\"-\", x)\n"
      ]
    },
    {
      "cell_type": "markdown",
      "metadata": {},
      "source": [
        "\n",
        "## 7) Placeholder for LLM‑assisted extraction\n",
        "When I replace this stub with a real LLM/NLP call, I’ll feed abstracts/tables and get back candidate triples to add to the graph.\n"
      ]
    },
    {
      "cell_type": "code",
      "execution_count": 10,
      "metadata": {},
      "outputs": [
        {
          "name": "stdout",
          "output_type": "stream",
          "text": [
            "Triples after stub insert: 77\n"
          ]
        }
      ],
      "source": [
        "def propose_triples_from_text(text: str):\n",
        "    # demo placeholder: pretend I parsed that GaN has Eg ~3.4 eV\n",
        "    return [(EX.GaN, EX.hasBandGap, Literal(3.4, datatype=XSD.float))]\n",
        "\n",
        "for s,p,o in propose_triples_from_text(\"GaN has band gap ~3.4 eV\"):\n",
        "    g.add((s,p,o))\n",
        "\n",
        "print(\"Triples after stub insert:\", len(g))"
      ]
    },
    {
      "cell_type": "markdown",
      "metadata": {},
      "source": [
        "\n",
        "## 8) Save again after updates\n",
        "I keep the TTL in sync with the in‑memory graph.\n"
      ]
    },
    {
      "cell_type": "code",
      "execution_count": 11,
      "metadata": {},
      "outputs": [
        {
          "name": "stdout",
          "output_type": "stream",
          "text": [
            "Updated: E:\\Projects\\Semantic_models_for-MSE\\data\\semiconductors_small.ttl\n"
          ]
        }
      ],
      "source": [
        "TTL_OUT.write_bytes(g.serialize(format=\"turtle\", encoding=\"utf-8\"))\n",
        "print(\"Updated:\", TTL_OUT.resolve())"
      ]
    },
    {
      "cell_type": "code",
      "execution_count": 12,
      "id": "5ced5f92",
      "metadata": {},
      "outputs": [
        {
          "name": "stdout",
          "output_type": "stream",
          "text": [
            "kg.html\n",
            "Wrote: kg.html (open this file in your browser)\n"
          ]
        }
      ],
      "source": [
        "from pyvis.network import Network\n",
        "from rdflib import Graph, URIRef, BNode, Literal\n",
        "\n",
        "\n",
        "def display_label(term):\n",
        "    \"\"\"Human label for a node/edge: prefer rdfs:label, then QName, then short str.\"\"\"\n",
        "    lab = g.value(term, RDFS.label)\n",
        "    if lab:\n",
        "        return str(lab).strip()\n",
        "    # QName only for URIRefs\n",
        "    if isinstance(term, URIRef):\n",
        "        try:\n",
        "            return g.namespace_manager.normalizeUri(term)\n",
        "        except Exception:\n",
        "            pass\n",
        "    s = str(term).strip()\n",
        "    return s\n",
        "\n",
        "def node_id(term):\n",
        "    \"\"\"Stable ID for pyvis (avoid raw labels).\"\"\"\n",
        "    # Use actual URI for URIRefs/BNodes; fallback to hash\n",
        "    if isinstance(term, (URIRef, BNode)):\n",
        "        return str(term)\n",
        "    return f\"lit:{hash((str(term), type(term).__name__))}\"\n",
        "\n",
        "def node_style(term):\n",
        "    \"\"\"Color by class where possible (Material / CrystalStructure / SynthesisMethod).\"\"\"\n",
        "    # Try to infer from rdf:type (lightweight check)\n",
        "    types = set(g.objects(term, RDF.type)) if isinstance(term, (URIRef, BNode)) else set()\n",
        "    # Resolve EX namespace if present\n",
        "    ns = dict(g.namespace_manager.namespaces())\n",
        "    EX = ns.get(\"ex\")\n",
        "    def is_type(tname):\n",
        "        return any(str(t).endswith(f\"#{tname}\") or str(t).endswith(f\"/{tname}\") for t in types)\n",
        "    if is_type(\"Material\"):\n",
        "        return dict(color=\"#2b8a3e\", shape=\"ellipse\")\n",
        "    if is_type(\"CrystalStructure\"):\n",
        "        return dict(color=\"#1c7ed6\", shape=\"ellipse\")\n",
        "    if is_type(\"SynthesisMethod\"):\n",
        "        return dict(color=\"#e8590c\", shape=\"ellipse\")\n",
        "    if isinstance(term, Literal):\n",
        "        return dict(color=\"#bfbfbf\", shape=\"box\")\n",
        "    return dict(color=\"#666666\", shape=\"ellipse\")\n",
        "\n",
        "def visualize_graph_pyvis(g, max_edges=1500, show_literals=False, height=\"700px\"):\n",
        "    net = Network(height=height, width=\"100%\", directed=True, notebook=True,\n",
        "                  cdn_resources=\"in_line\")  # avoid the Jupyter warning\n",
        "    net.toggle_physics(True)\n",
        "\n",
        "    added = set()\n",
        "    edge_count = 0\n",
        "\n",
        "    for s, p, o in g.triples((None, None, None)):\n",
        "        if edge_count >= max_edges:\n",
        "            break\n",
        "\n",
        "        # skip literal nodes unless asked\n",
        "        if not show_literals and isinstance(o, Literal):\n",
        "            # still add edge to a small boxed literal if you like:\n",
        "            # continue\n",
        "            pass\n",
        "\n",
        "        sid = node_id(s); so = node_id(o)\n",
        "        if sid not in added:\n",
        "            net.add_node(sid, label=display_label(s), **node_style(s))\n",
        "            added.add(sid)\n",
        "        if show_literals or not isinstance(o, Literal):\n",
        "            if so not in added:\n",
        "                net.add_node(so, label=display_label(o), **node_style(o))\n",
        "                added.add(so)\n",
        "\n",
        "        net.add_edge(sid, so, label=display_label(p))\n",
        "        edge_count += 1\n",
        "\n",
        "    net.show(\"kg.html\")\n",
        "    print(\"Wrote: kg.html (open this file in your browser)\")\n",
        "\n",
        "visualize_graph_pyvis(g, max_edges=1000, show_literals=True)"
      ]
    },
    {
      "cell_type": "markdown",
      "id": "11b3bd6e",
      "metadata": {},
      "source": [
        "# Utilizing LLM (Chat GPT) for parsing"
      ]
    },
    {
      "cell_type": "markdown",
      "id": "56c4fd2c",
      "metadata": {},
      "source": [
        "*Quick smoke test*\n",
        "-Chat GPT: doesnt support api access for plus user."
      ]
    },
    {
      "cell_type": "code",
      "execution_count": 13,
      "id": "3bed8981",
      "metadata": {},
      "outputs": [],
      "source": [
        "# from openai import OpenAI\n",
        "# import os, json\n",
        "\n",
        "# assert os.getenv(\"OPENAI_API_KEY\"), \"API key missing\"\n",
        "# client = OpenAI()\n",
        "\n",
        "# resp = client.chat.completions.create(\n",
        "#     model=\"gpt-4o-mini\",\n",
        "#     response_format={\"type\": \"json_object\"},   # ← JSON mode\n",
        "#     messages=[\n",
        "#         {\"role\":\"system\",\"content\":\"Return valid JSON only.\"},\n",
        "#         {\"role\":\"user\",\"content\":\"Respond with {\\\"ok\\\": true}\"}\n",
        "#     ],\n",
        "#     temperature=0\n",
        "# )\n",
        "# print(json.loads(resp.choices[0].message.content))"
      ]
    },
    {
      "cell_type": "markdown",
      "id": "6297a69e",
      "metadata": {},
      "source": [
        "*Quick smoke test*  \n",
        "-OLLAMA offers llms to be run on local machines and an API."
      ]
    },
    {
      "cell_type": "code",
      "execution_count": 14,
      "id": "4ff91c11",
      "metadata": {},
      "outputs": [
        {
          "name": "stdout",
          "output_type": "stream",
          "text": [
            "{'ok': True}\n"
          ]
        }
      ],
      "source": [
        "import json, ollama\n",
        "r = ollama.chat(\n",
        "    model='llama3.2:3b',\n",
        "    messages=[{\"role\":\"system\",\"content\":\"Return ONLY valid JSON.\"},\n",
        "              {\"role\":\"user\",\"content\":'{\"ok\": true}'}],\n",
        "    format='json',\n",
        "    options={'temperature': 0}\n",
        ")\n",
        "print(json.loads(r['message']['content']))"
      ]
    },
    {
      "cell_type": "markdown",
      "id": "2126be6d",
      "metadata": {},
      "source": [
        "**Wiring 'ollama'into the pipeline.**  \n",
        "1. Schema"
      ]
    },
    {
      "cell_type": "code",
      "execution_count": 15,
      "id": "01ba9f82",
      "metadata": {},
      "outputs": [],
      "source": [
        "from pydantic import BaseModel, Field, ValidationError\n",
        "from typing import Optional\n",
        "\n",
        "class RowOut(BaseModel):\n",
        "    material: str\n",
        "    crystal_structure: str\n",
        "    typical_synthesis: str\n",
        "    band_gap_eV: Optional[float] = Field(default=None, ge=0)\n",
        "    lattice_const_A: Optional[float] = Field(default=None, ge=0)"
      ]
    },
    {
      "cell_type": "markdown",
      "id": "0845a93e",
      "metadata": {},
      "source": [
        "2. Building 'hints' from data"
      ]
    },
    {
      "cell_type": "code",
      "execution_count": 16,
      "id": "f7aa03a1",
      "metadata": {},
      "outputs": [],
      "source": [
        "# assumes your DataFrame is named df\n",
        "allowed_structs  = sorted(set(str(x).strip() for x in df['crystal_structure'].dropna()))\n",
        "allowed_methods  = sorted(set(str(x).strip() for x in df['typical_synthesis'].dropna()))"
      ]
    },
    {
      "cell_type": "markdown",
      "id": "e8da4c51",
      "metadata": {},
      "source": [
        "3. Normalization of data-row (that're gonna be parsed) with 'ollama'"
      ]
    },
    {
      "cell_type": "code",
      "execution_count": 17,
      "id": "10a1235b",
      "metadata": {},
      "outputs": [],
      "source": [
        "import json, ollama\n",
        "\n",
        "SYSTEM = f\"\"\"You are a materials KG assistant.\n",
        "Return ONLY JSON with keys exactly:\n",
        "material, crystal_structure, typical_synthesis, band_gap_eV, lattice_const_A.\n",
        "Rules:\n",
        "- Normalize names (e.g., crystal structure like 'Diamond' / 'Cubic').\n",
        "- Use null if a numeric field is unknown.\n",
        "- Units: band_gap_eV in eV; lattice_const_A in Å (floats).\n",
        "- Preferred crystal_structure values (if applicable): {allowed_structs}\n",
        "- Preferred typical_synthesis values (if applicable): {allowed_methods}\n",
        "\"\"\"\n",
        "\n",
        "def normalize_row_with_ollama(row: dict) -> RowOut:\n",
        "    msg = f\"Normalize this row to the schema: {row}\"\n",
        "    resp = ollama.chat(\n",
        "        model='llama3.2:3b',\n",
        "        messages=[{\"role\":\"system\",\"content\": SYSTEM},\n",
        "                  {\"role\":\"user\",\"content\": msg}],\n",
        "        format='json',                 # forces valid JSON\n",
        "        options={'temperature': 0}     # deterministic\n",
        "    )\n",
        "    data = json.loads(resp['message']['content'])\n",
        "    try:\n",
        "        return RowOut(**data)\n",
        "    except ValidationError:\n",
        "        # minimal fallback coercions\n",
        "        return RowOut(\n",
        "            material=str(data.get(\"material\",\"\")).strip() or \"Unknown\",\n",
        "            crystal_structure=str(data.get(\"crystal_structure\",\"\")).strip() or \"Unknown\",\n",
        "            typical_synthesis=str(data.get(\"typical_synthesis\",\"\")).strip() or \"Unknown\",\n",
        "            band_gap_eV=(float(data[\"band_gap_eV\"]) if data.get(\"band_gap_eV\") not in (None,\"\") else None),\n",
        "            lattice_const_A=(float(data[\"lattice_const_A\"]) if data.get(\"lattice_const_A\") not in (None,\"\") else None),\n",
        "        )"
      ]
    },
    {
      "cell_type": "markdown",
      "id": "a9936998",
      "metadata": {},
      "source": [
        "4. Appending normalized result into my graph"
      ]
    },
    {
      "cell_type": "code",
      "execution_count": 20,
      "id": "2dbbfe77",
      "metadata": {},
      "outputs": [],
      "source": [
        "from rdflib import Literal, XSD\n",
        "\n",
        "def ingest_normalized_row(nr: RowOut, idx: int = 0):\n",
        "    mat = mint_entity(nr.material,          Material,         \"Material\",         idx)\n",
        "    cs  = mint_entity(nr.crystal_structure,  CrystalStructure, \"CrystalStructure\", idx)\n",
        "    sm  = mint_entity(nr.typical_synthesis,  SynthesisMethod,  \"SynthesisMethod\",  idx)\n",
        "\n",
        "    if nr.band_gap_eV is not None:\n",
        "        g.add((mat, hasBandGap, Literal(float(nr.band_gap_eV), datatype=XSD.float)))\n",
        "    if nr.lattice_const_A is not None:\n",
        "        g.add((mat, hasLatticeConstant, Literal(float(nr.lattice_const_A), datatype=XSD.float)))\n",
        "\n",
        "    g.add((mat, hasCrystalStructure, cs))\n",
        "    g.add((mat, synthesizedBy, sm))"
      ]
    },
    {
      "cell_type": "markdown",
      "id": "7cb45929",
      "metadata": {},
      "source": [
        "5. Pipeline test (before i scale-up)"
      ]
    },
    {
      "cell_type": "code",
      "execution_count": 21,
      "id": "e240099d",
      "metadata": {},
      "outputs": [
        {
          "name": "stdout",
          "output_type": "stream",
          "text": [
            "Triples now: 77\n",
            "Triples after LLM ingest: 80\n"
          ]
        }
      ],
      "source": [
        "# single example\n",
        "sample = df.iloc[0].to_dict()\n",
        "nr = normalize_row_with_ollama(sample)\n",
        "ingest_normalized_row(nr)\n",
        "print(\"Triples now:\", len(g))\n",
        "\n",
        "# small batch (e.g., first 5 rows)\n",
        "for _, r in df.head(5).iterrows():\n",
        "    nr = normalize_row_with_ollama(r.to_dict())\n",
        "    ingest_normalized_row(nr)\n",
        "\n",
        "print(\"Triples after LLM ingest:\", len(g))"
      ]
    }
  ],
  "metadata": {
    "kernelspec": {
      "display_name": ".venv",
      "language": "python",
      "name": "python3"
    },
    "language_info": {
      "codemirror_mode": {
        "name": "ipython",
        "version": 3
      },
      "file_extension": ".py",
      "mimetype": "text/x-python",
      "name": "python",
      "nbconvert_exporter": "python",
      "pygments_lexer": "ipython3",
      "version": "3.13.2"
    }
  },
  "nbformat": 4,
  "nbformat_minor": 5
}
