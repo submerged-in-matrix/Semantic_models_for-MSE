{
  "cells": [
    {
      "cell_type": "markdown",
      "metadata": {},
      "source": "\n# Mini Materials Knowledge Graph \u2014 Common Semiconductors\n\n*Personal notes for me (Md. Saidul Islam). Goal: demonstrate semantic modeling skills relevant to BAM.*\n\n**What I'm building:** a tiny pipeline that turns a small semiconductors table into **RDF triples**, then I query it using **SPARQL**. I keep the ontology minimal and readable.\n"
    },
    {
      "cell_type": "markdown",
      "metadata": {},
      "source": "\n## 0) Quick glossary (my own words)\n- **Ontology** \u2192 my small schema + vocabulary for this domain (classes + relations).\n- **RDF triple** \u2192 one fact written as `subject \u2014 predicate \u2014 object`.\n- **Namespace** \u2192 URL prefix so my identifiers are unique.\n- **SPARQL** \u2192 my query tool for RDF graphs (like SQL but for triples).\n- **Turtle (.ttl)** \u2192 compact text format to store RDF.\n"
    },
    {
      "cell_type": "markdown",
      "metadata": {},
      "source": "\n## 1) Setup\nI\u2019ll read a tiny CSV and map it into RDF using `rdflib`. I keep paths relative so it runs inside the repo.\n"
    },
    {
      "cell_type": "code",
      "metadata": {},
      "execution_count": null,
      "outputs": [],
      "source": "\n# If first run, I can install libs here:\n# %pip install rdflib pandas\n\nimport pandas as pd\nfrom rdflib import Graph, Namespace, URIRef, Literal\nfrom rdflib.namespace import RDF, RDFS, XSD\nfrom pathlib import Path\n\nDATA = Path(\"../data/semiconductors_small.csv\")   # CSV lives in the repo\nTTL_OUT = Path(\"../data/semiconductors_small.ttl\")# RDF Turtle output\nprint(\"Using data:\", DATA.resolve())\n"
    },
    {
      "cell_type": "markdown",
      "metadata": {},
      "source": "\n## 2) Ontology skeleton (small and pragmatic)\nI declare a few classes and properties that I actually need for the CSV.  \nClasses: `Material`, `SynthesisMethod`, `CrystalStructure`, `Property`  \nProperties:  \n- data: `hasBandGap` (float eV), `hasLatticeConstant` (float \u00c5)  \n- object: `hasCrystalStructure`, `synthesizedBy`\n"
    },
    {
      "cell_type": "code",
      "metadata": {},
      "execution_count": null,
      "outputs": [],
      "source": "\ng = Graph()\n\n# Namespace for my identifiers (can switch to a real domain later)\nEX = Namespace(\"http://example.org/mse#\")\ng.bind(\"ex\", EX)\ng.bind(\"rdfs\", RDFS)\ng.bind(\"xsd\", XSD)\n\n# Classes\nMaterial         = EX.Material\nSynthesisMethod  = EX.SynthesisMethod\nCrystalStructure = EX.CrystalStructure\nProperty         = EX.Property\n\nfor cls in [Material, SynthesisMethod, CrystalStructure, Property]:\n    g.add((cls, RDF.type, RDFS.Class))\n\n# Properties\nhasBandGap          = EX.hasBandGap\nhasLatticeConstant  = EX.hasLatticeConstant\nhasCrystalStructure = EX.hasCrystalStructure\nsynthesizedBy       = EX.synthesizedBy\n\nfor prop in [hasBandGap, hasLatticeConstant, hasCrystalStructure, synthesizedBy]:\n    g.add((prop, RDF.type, RDF.Property))\n\n# Light domain/range annotations (sanity helpers for later validation)\ng.add((hasBandGap, RDFS.domain, Material));         g.add((hasBandGap, RDFS.range, XSD.float))\ng.add((hasLatticeConstant, RDFS.domain, Material)); g.add((hasLatticeConstant, RDFS.range, XSD.float))\ng.add((hasCrystalStructure, RDFS.domain, Material));g.add((hasCrystalStructure, RDFS.range, CrystalStructure))\ng.add((synthesizedBy, RDFS.domain, Material));      g.add((synthesizedBy, RDFS.range, SynthesisMethod))\n\nprint(\"Ontology initialized. Triples so far:\", len(g))\n"
    },
    {
      "cell_type": "markdown",
      "metadata": {},
      "source": "\n## 3) Load CSV and mint entities\nI create IRIs from labels (simple normalization) and assert triples for each row.\n"
    },
    {
      "cell_type": "code",
      "metadata": {},
      "execution_count": null,
      "outputs": [],
      "source": "\ndf = pd.read_csv(DATA)\n\ndef mint_entity(label: str, cls: URIRef):\n    # minimal normalizer (good enough for a demo)\n    safe = (\n        label.strip()\n             .replace(\" \", \"_\")\n             .replace(\"(\", \"\")\n             .replace(\")\", \"\")\n             .replace(\"/\", \"_\")\n    )\n    iri = EX[safe]\n    g.add((iri, RDF.type, cls))\n    g.add((iri, RDFS.label, Literal(label)))\n    return iri\n\nfor _, row in df.iterrows():\n    mat = mint_entity(row[\"material\"], Material)\n    cs  = mint_entity(row[\"crystal_structure\"], CrystalStructure)\n    sm  = mint_entity(row[\"typical_synthesis\"], SynthesisMethod)\n\n    # data properties\n    if pd.notna(row.get(\"band_gap_eV\", None)):\n        g.add((mat, hasBandGap, Literal(float(row[\"band_gap_eV\"]), datatype=XSD.float)))\n    if pd.notna(row.get(\"lattice_const_A\", None)):\n        g.add((mat, hasLatticeConstant, Literal(float(row[\"lattice_const_A\"]), datatype=XSD.float)))\n\n    # object properties\n    g.add((mat, hasCrystalStructure, cs))\n    g.add((mat, synthesizedBy, sm))\n\nprint(\"After ingest: triples =\", len(g))\n"
    },
    {
      "cell_type": "markdown",
      "metadata": {},
      "source": "\n## 4) Serialize to Turtle\nI write the RDF graph to a `.ttl` file so it\u2019s versionable in Git and easy to inspect.\n"
    },
    {
      "cell_type": "code",
      "metadata": {},
      "execution_count": null,
      "outputs": [],
      "source": "\nTTL_OUT.write_bytes(g.serialize(format=\"turtle\"))\nprint(\"Wrote:\", TTL_OUT.resolve())\n"
    },
    {
      "cell_type": "markdown",
      "metadata": {},
      "source": "\n## 5) SPARQL queries (quick checks)\nI query the in\u2011memory graph via `rdflib` to verify the ontology + data mapping.\n"
    },
    {
      "cell_type": "code",
      "metadata": {},
      "execution_count": null,
      "outputs": [],
      "source": "\n# Q1) Materials with band gap > 1 eV (descending)\nq1 = \"\"\"PREFIX ex: <http://example.org/mse#>\nSELECT ?material ?Eg\nWHERE {\n  ?m a ex:Material ;\n     rdfs:label ?material ;\n     ex:hasBandGap ?Eg .\n  FILTER(?Eg > 1.0)\n}\nORDER BY DESC(?Eg)\n\"\"\"\nfor row in g.query(q1, initNs={\"rdfs\": RDFS}):\n    print(row)\n"
    },
    {
      "cell_type": "code",
      "metadata": {},
      "execution_count": null,
      "outputs": [],
      "source": "\n# Q2) Materials synthesized by MOCVD\nq2 = \"\"\"PREFIX ex: <http://example.org/mse#>\nSELECT ?material\nWHERE {\n  ?m a ex:Material ;\n     rdfs:label ?material ;\n     ex:synthesizedBy ?meth .\n  ?meth rdfs:label \"MOCVD\" .\n}\n\"\"\"\nfor row in g.query(q2, initNs={\"rdfs\": RDFS}):\n    print(row)\n"
    },
    {
      "cell_type": "code",
      "metadata": {},
      "execution_count": null,
      "outputs": [],
      "source": "\n# Q3) Materials with diamond cubic structure\nq3 = \"\"\"PREFIX ex: <http://example.org/mse#>\nSELECT ?material\nWHERE {\n  ?m a ex:Material ;\n     rdfs:label ?material ;\n     ex:hasCrystalStructure ?cs .\n  ?cs rdfs:label \"Diamond cubic\" .\n}\n\"\"\"\nfor row in g.query(q3, initNs={\"rdfs\": RDFS}):\n    print(row)\n"
    },
    {
      "cell_type": "markdown",
      "metadata": {},
      "source": "\n## 6) Lightweight consistency checks\nI keep a few small rules here to catch obvious issues (labels missing, negative band gaps, etc.).\n"
    },
    {
      "cell_type": "code",
      "metadata": {},
      "execution_count": null,
      "outputs": [],
      "source": "\nproblems = []\n\n# A) All Materials should have labels\nfor s in g.subjects(RDF.type, EX.Material):\n    if (s, RDFS.label, None) not in g:\n        problems.append(f\"Material without label: {s}\")\n\n# B) Band gap must be numeric and non-negative\nfor s,p,o in g.triples((None, EX.hasBandGap, None)):\n    try:\n        if float(o) < 0:\n            problems.append(f\"Negative band gap for {s}\")\n    except Exception:\n        problems.append(f\"Non-numeric band gap for {s}: {o}\")\n\nprint(\"No obvious problems \u2705\" if not problems else \"Consistency problems:\")\nfor x in problems:\n    print(\"-\", x)\n"
    },
    {
      "cell_type": "markdown",
      "metadata": {},
      "source": "\n## 7) Placeholder for LLM\u2011assisted extraction\nWhen I replace this stub with a real LLM/NLP call, I\u2019ll feed abstracts/tables and get back candidate triples to add to the graph.\n"
    },
    {
      "cell_type": "code",
      "metadata": {},
      "execution_count": null,
      "outputs": [],
      "source": "\ndef propose_triples_from_text(text: str):\n    # demo placeholder: pretend I parsed that GaN has Eg ~3.4 eV\n    return [(EX.GaN, EX.hasBandGap, Literal(3.4, datatype=XSD.float))]\n\nfor s,p,o in propose_triples_from_text(\"GaN has band gap ~3.4 eV\"):\n    g.add((s,p,o))\n\nprint(\"Triples after stub insert:\", len(g))\n"
    },
    {
      "cell_type": "markdown",
      "metadata": {},
      "source": "\n## 8) Save again after updates\nI keep the TTL in sync with the in\u2011memory graph.\n"
    },
    {
      "cell_type": "code",
      "metadata": {},
      "execution_count": null,
      "outputs": [],
      "source": "\nTTL_OUT.write_bytes(g.serialize(format=\"turtle\"))\nprint(\"Updated:\", TTL_OUT.resolve())\n"
    }
  ],
  "metadata": {
    "kernelspec": {
      "display_name": "Python 3",
      "language": "python",
      "name": "python3"
    },
    "language_info": {
      "name": "python",
      "version": ""
    }
  },
  "nbformat": 4,
  "nbformat_minor": 5
}