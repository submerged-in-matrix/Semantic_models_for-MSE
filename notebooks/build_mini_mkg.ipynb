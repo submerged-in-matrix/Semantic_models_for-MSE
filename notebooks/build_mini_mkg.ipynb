{
  "cells": [
    {
      "cell_type": "markdown",
      "metadata": {},
      "source": [
        "# Mini Materials Knowledge Graph — Common Semiconductors\n",
        "**What I'm building:** a tiny pipeline that turns a small semiconductors table into **RDF triples**, then I query it using **SPARQL**. I keep the ontology minimal and readable."
      ]
    },
    {
      "cell_type": "markdown",
      "metadata": {},
      "source": [
        "\n",
        "## Some basic terminologies\n",
        "- **Ontology** → my small schema + vocabulary for this domain (classes + relations).\n",
        "- **RDF (Resource Description Framework) triple** → one fact written as `subject — predicate — object`.\n",
        "- **Namespace** → URL prefix so my identifiers are unique.\n",
        "- **SPARQL** → my query tool for RDF graphs (like SQL but for triples).\n",
        "- **Turtle (.ttl)** → compact text format to store RDF.\n",
        "- **IRI(Internationalized Resource Identifier)** → a **Unicode string** that serves as a unique, global name or identifier for an entity.\n",
        "- **Regex (Regular Expression):** -> A specialized mini-language for describing text by using combination of 'Literal' & 'Meta' characters & allowing  find, match, replace, and validate strings of text by specifying rules for character combinations. Literal characters: These match themselves exactly (\"cat\" would match the literal string \"cat\"). Metacharacters: special characters having a specific meaning within the regex pattern, such as:\n",
        "(dot '.'): Matches any single character. \n",
        "(asterisk '*'): Matches the preceding character zero or more times. \n",
        "(plus '+'): Matches the preceding character one or more times. \n",
        "(question mark '?'): Matches the preceding character zero or one time. \n",
        "(pipe '|'): Acts as an \"OR\" operator, allowing you to match one pattern or another. \n",
        "\\d: Matches a digit (0-9). "
      ]
    },
    {
      "cell_type": "markdown",
      "id": "bfbaab76",
      "metadata": {},
      "source": [
        "**Imports**"
      ]
    },
    {
      "cell_type": "code",
      "execution_count": null,
      "id": "d4065d28",
      "metadata": {},
      "outputs": [
        {
          "name": "stdout",
          "output_type": "stream",
          "text": [
            "OK\n"
          ]
        }
      ],
      "source": [
        "# import os; print(\"OK\" if os.getenv(\"OPENAI_API_KEY\") else \"MISSING\")"
      ]
    },
    {
      "cell_type": "code",
      "execution_count": 1,
      "metadata": {},
      "outputs": [],
      "source": [
        "import pandas as pd\n",
        "from rdflib import Graph, Namespace, URIRef, Literal\n",
        "from rdflib.namespace import RDF, RDFS, XSD\n",
        "from pathlib import Path\n",
        "import re\n",
        "from dotenv import load_dotenv\n",
        "load_dotenv()\n",
        "import matplotlib.pyplot as plt\n",
        "import json, ast\n",
        "from matminer.featurizers.structure import GlobalSymmetryFeatures\n",
        "from pymatgen.core import Structure\n",
        "import openpyxl\n",
        "from graphviz import Digraph"
      ]
    },
    {
      "cell_type": "markdown",
      "id": "71fe023e",
      "metadata": {},
      "source": [
        "# 0) Dataset prep. for KG   \n",
        "The dataset I am using is parsed from Materials Project database, where 'Structure' is pymatgen’s pretty-printed “Structure summary”, not a standard format (CIF/POSCAR/JSON). Therefore 'Regex' helpers was used to decode that & subsequently a Structure object is created. The structure object was created to use 'Matminer's Structure featurizer, from which I am interested to extract the 'crystal_system' & 'Whether the structure has an inversion center'. I find that to be a valuable information for the knowledge graph I'm gonna build."
      ]
    },
    {
      "cell_type": "code",
      "execution_count": 16,
      "id": "3e90516f",
      "metadata": {},
      "outputs": [
        {
          "name": "stdout",
          "output_type": "stream",
          "text": [
            "Parsed 150987 / 150987 structures (100.0%).\n",
            "Saved: E:\\Projects\\Semantic_models_for-MSE\\data\\full_dataset_Bandgap_0_to_5_featurized.csv\n",
            "crystal_system        0.0\n",
            "is_centrosymmetric    0.0\n",
            "dtype: float64\n"
          ]
        },
        {
          "data": {
            "application/vnd.microsoft.datawrangler.viewer.v0+json": {
              "columns": [
                {
                  "name": "index",
                  "rawType": "int64",
                  "type": "integer"
                },
                {
                  "name": "material_id",
                  "rawType": "object",
                  "type": "string"
                },
                {
                  "name": "formula",
                  "rawType": "object",
                  "type": "string"
                },
                {
                  "name": "band_gap",
                  "rawType": "float64",
                  "type": "float"
                },
                {
                  "name": "structure",
                  "rawType": "object",
                  "type": "unknown"
                },
                {
                  "name": "crystal_system",
                  "rawType": "object",
                  "type": "string"
                },
                {
                  "name": "is_centrosymmetric",
                  "rawType": "bool",
                  "type": "boolean"
                }
              ],
              "ref": "900db425-51ed-49ba-998f-038547681b4f",
              "rows": [
                [
                  "0",
                  "mp-10018",
                  "Ac",
                  "0.0",
                  "Full Formula (Ac1)\nReduced Formula: Ac\nabc   :   4.027830   4.027829   4.027830\nangles:  59.999995  60.000001  59.999995\npbc   :       True       True       True\nSites (1)\n  #  SP      a    b    c\n---  ----  ---  ---  ---\n  0  Ac     -0   -0    0",
                  "cubic",
                  "True"
                ],
                [
                  "1",
                  "mp-1183057",
                  "Ac",
                  "0.0",
                  "Full Formula (Ac3)\nReduced Formula: Ac\nabc   :   4.002656   4.002656   9.803856\nangles:  90.000000  90.000000 120.000003\npbc   :       True       True       True\nSites (3)\n  #  SP           a         b         c\n---  ----  --------  --------  --------\n  0  Ac    0.655046  0.655046  0\n  1  Ac    0.344954  0         0.333333\n  2  Ac    0         0.344954  0.666667",
                  "trigonal",
                  "False"
                ],
                [
                  "2",
                  "mp-1183069",
                  "Ac",
                  "0.0",
                  "Full Formula (Ac3)\nReduced Formula: Ac\nabc   :   4.046863   4.046863  10.064235\nangles:  78.401536 101.598467 119.999995\npbc   :       True       True       True\nSites (3)\n  #  SP           a          b        c\n---  ----  --------  ---------  -------\n  0  Ac    0         -0         0\n  1  Ac    0.777359   0.222639  0.33208\n  2  Ac    0.22264    0.77736   0.66792",
                  "trigonal",
                  "True"
                ],
                [
                  "3",
                  "mp-862690",
                  "Ac",
                  "0.0",
                  "Full Formula (Ac4)\nReduced Formula: Ac\nabc   :   4.046041   4.046041  13.017036\nangles:  90.000000  90.000000 120.000008\npbc   :       True       True       True\nSites (4)\n  #  SP            a          b     c\n---  ----  ---------  ---------  ----\n  0  Ac    -0         -0         0\n  1  Ac     0.333334   0.666668  0.25\n  2  Ac    -0         -0         0.5\n  3  Ac     0.666667   0.333333  0.75",
                  "hexagonal",
                  "True"
                ],
                [
                  "4",
                  "mp-861724",
                  "Ac2AgIr",
                  "0.0",
                  "Full Formula (Ac2 Ag1 Ir1)\nReduced Formula: Ac2AgIr\nabc   :   5.380750   5.380750   5.380750\nangles:  60.000000  60.000000  60.000000\npbc   :       True       True       True\nSites (4)\n  #  SP            a          b          c\n---  ----  ---------  ---------  ---------\n  0  Ac     0.5        0.5        0.5\n  1  Ac    -0         -0         -0\n  2  Ag     0.250001   0.250001   0.250001\n  3  Ir     0.750001   0.750001   0.750001",
                  "cubic",
                  "True"
                ]
              ],
              "shape": {
                "columns": 6,
                "rows": 5
              }
            },
            "text/html": [
              "<div>\n",
              "<style scoped>\n",
              "    .dataframe tbody tr th:only-of-type {\n",
              "        vertical-align: middle;\n",
              "    }\n",
              "\n",
              "    .dataframe tbody tr th {\n",
              "        vertical-align: top;\n",
              "    }\n",
              "\n",
              "    .dataframe thead th {\n",
              "        text-align: right;\n",
              "    }\n",
              "</style>\n",
              "<table border=\"1\" class=\"dataframe\">\n",
              "  <thead>\n",
              "    <tr style=\"text-align: right;\">\n",
              "      <th></th>\n",
              "      <th>material_id</th>\n",
              "      <th>formula</th>\n",
              "      <th>band_gap</th>\n",
              "      <th>structure</th>\n",
              "      <th>crystal_system</th>\n",
              "      <th>is_centrosymmetric</th>\n",
              "    </tr>\n",
              "  </thead>\n",
              "  <tbody>\n",
              "    <tr>\n",
              "      <th>0</th>\n",
              "      <td>mp-10018</td>\n",
              "      <td>Ac</td>\n",
              "      <td>0.0</td>\n",
              "      <td>[[0. 0. 0.] Ac]</td>\n",
              "      <td>cubic</td>\n",
              "      <td>True</td>\n",
              "    </tr>\n",
              "    <tr>\n",
              "      <th>1</th>\n",
              "      <td>mp-1183057</td>\n",
              "      <td>Ac</td>\n",
              "      <td>0.0</td>\n",
              "      <td>[[1.31096178e+00 2.27065255e+00 3.21093059e-16...</td>\n",
              "      <td>trigonal</td>\n",
              "      <td>False</td>\n",
              "    </tr>\n",
              "    <tr>\n",
              "      <th>2</th>\n",
              "      <td>mp-1183069</td>\n",
              "      <td>Ac</td>\n",
              "      <td>0.0</td>\n",
              "      <td>[[0. 0. 0.] Ac, [2.65892229 0.77478234 2.89079...</td>\n",
              "      <td>trigonal</td>\n",
              "      <td>True</td>\n",
              "    </tr>\n",
              "    <tr>\n",
              "      <th>3</th>\n",
              "      <td>mp-862690</td>\n",
              "      <td>Ac</td>\n",
              "      <td>0.0</td>\n",
              "      <td>[[0. 0. 0.] Ac, [-3.26165376e-07  2.33598734e+...</td>\n",
              "      <td>hexagonal</td>\n",
              "      <td>True</td>\n",
              "    </tr>\n",
              "    <tr>\n",
              "      <th>4</th>\n",
              "      <td>mp-861724</td>\n",
              "      <td>Ac2AgIr</td>\n",
              "      <td>0.0</td>\n",
              "      <td>[[3.10657746 2.19668199 5.38075   ] Ac, [0. 0....</td>\n",
              "      <td>cubic</td>\n",
              "      <td>True</td>\n",
              "    </tr>\n",
              "  </tbody>\n",
              "</table>\n",
              "</div>"
            ],
            "text/plain": [
              "  material_id  formula  band_gap  \\\n",
              "0    mp-10018       Ac       0.0   \n",
              "1  mp-1183057       Ac       0.0   \n",
              "2  mp-1183069       Ac       0.0   \n",
              "3   mp-862690       Ac       0.0   \n",
              "4   mp-861724  Ac2AgIr       0.0   \n",
              "\n",
              "                                           structure crystal_system  \\\n",
              "0                                    [[0. 0. 0.] Ac]          cubic   \n",
              "1  [[1.31096178e+00 2.27065255e+00 3.21093059e-16...       trigonal   \n",
              "2  [[0. 0. 0.] Ac, [2.65892229 0.77478234 2.89079...       trigonal   \n",
              "3  [[0. 0. 0.] Ac, [-3.26165376e-07  2.33598734e+...      hexagonal   \n",
              "4  [[3.10657746 2.19668199 5.38075   ] Ac, [0. 0....          cubic   \n",
              "\n",
              "   is_centrosymmetric  \n",
              "0                True  \n",
              "1               False  \n",
              "2                True  \n",
              "3                True  \n",
              "4                True  "
            ]
          },
          "execution_count": 16,
          "metadata": {},
          "output_type": "execute_result"
        }
      ],
      "source": [
        "import pandas as pd\n",
        "import numpy as np\n",
        "import re\n",
        "from pathlib import Path\n",
        "from pymatgen.core import Structure, Lattice\n",
        "from matminer.featurizers.structure import GlobalSymmetryFeatures\n",
        "\n",
        "# -------- Paths (notebook in .../notebooks, data in .../data) ----------\n",
        "DATA_DIR   = Path(\"../data\").resolve()\n",
        "INPUT_XLSX = DATA_DIR / \"full_dataset_Bandgap_0_to_5.xlsx\"\n",
        "OUTPUT_CSV = DATA_DIR / \"full_dataset_Bandgap_0_to_5_featurized.csv\"\n",
        "\n",
        "# -------- Regex helpers for the pretty string ----------\n",
        "re_abc     = re.compile(r\"abc\\s*:\\s*([-\\d\\.Ee+]+)\\s+([-\\d\\.Ee+]+)\\s+([-\\d\\.Ee+]+)\", re.I)\n",
        "re_angles  = re.compile(r\"angles\\s*:\\s*([-\\d\\.Ee+]+)\\s+([-\\d\\.Ee+]+)\\s+([-\\d\\.Ee+]+)\", re.I)\n",
        "re_pbc     = re.compile(r\"pbc\\s*:\\s*(True|False)\\s+(True|False)\\s+(True|False)\", re.I)\n",
        "re_sites_header = re.compile(r\"Sites\\s*\\(\\d+\\)\", re.I)\n",
        "re_site_row = re.compile(\n",
        "    r\"^\\s*\\d+\\s+([A-Za-z][a-z]?)\\s+([-\\d\\.Ee+]+)\\s+([-\\d\\.Ee+]+)\\s+([-\\d\\.Ee+]+)\",\n",
        "    re.I\n",
        ")\n",
        "\n",
        "def parse_pretty_structure(txt):\n",
        "    \"\"\"Parse pymatgen's pretty-printed Structure summary into a Structure.\"\"\"\n",
        "    if not isinstance(txt, str):\n",
        "        return None\n",
        "    s = txt.strip()\n",
        "\n",
        "    # Lattice params\n",
        "    m_abc = re_abc.search(s)\n",
        "    m_ang = re_angles.search(s)\n",
        "    if not (m_abc and m_ang):\n",
        "        return None\n",
        "    a, b, c = map(float, m_abc.groups())\n",
        "    alpha, beta, gamma = map(float, m_ang.groups())\n",
        "\n",
        "    # PBC (optional; default True,True,True)\n",
        "    m_pbc = re_pbc.search(s)\n",
        "    pbc = tuple(map(lambda x: x.lower()==\"true\", m_pbc.groups())) if m_pbc else (True, True, True)\n",
        "\n",
        "    # Sites block: find header, then parse subsequent lines\n",
        "    lines = s.splitlines()\n",
        "    try:\n",
        "        start_idx = next(i for i, ln in enumerate(lines) if re_sites_header.search(ln))\n",
        "    except StopIteration:\n",
        "        return None\n",
        "\n",
        "    species, frac_coords = [], []\n",
        "    for ln in lines[start_idx+1:]:\n",
        "        m = re_site_row.match(ln)\n",
        "        if not m:\n",
        "            continue\n",
        "        sp, fa, fb, fc = m.groups()\n",
        "        species.append(sp)\n",
        "        frac_coords.append([float(fa), float(fb), float(fc)])\n",
        "\n",
        "    if not species:\n",
        "        return None\n",
        "\n",
        "    # Build lattice & structure\n",
        "    lat = Lattice.from_parameters(a=a, b=b, c=c, alpha=alpha, beta=beta, gamma=gamma)\n",
        "    try:\n",
        "        # pymatgen Structure ignores PBC per-axis in initializer; periodicity is assumed.\n",
        "        # If you truly need non-periodic axes, you'd manage it downstream; for symmetry it's fine.\n",
        "        struct = Structure(lattice=lat, species=species, coords=frac_coords, coords_are_cartesian=False)\n",
        "        return struct\n",
        "    except Exception:\n",
        "        return None\n",
        "\n",
        "# -------- Load Excel ----------\n",
        "df = pd.read_excel(INPUT_XLSX)\n",
        "\n",
        "# Choose/confirm structure column (adjust if yours is named differently)\n",
        "struct_col = \"structure\" if \"structure\" in df.columns else None\n",
        "if struct_col is None:\n",
        "    # try a best-guess search for a column that contains the pretty summary\n",
        "    candidates = [c for c in df.columns if df[c].astype(str).str.contains(r\"Full Formula|Reduced Formula|Sites \\(\", regex=True, na=False).any()]\n",
        "    struct_col = candidates[0] if candidates else None\n",
        "\n",
        "if struct_col is None:\n",
        "    raise ValueError(f\"Could not find the structure column. Available columns: {list(df.columns)}\")\n",
        "\n",
        "# -------- Parse structures --------\n",
        "parsed = df[struct_col].apply(parse_pretty_structure)\n",
        "\n",
        "parsed_ok = parsed.apply(lambda x: isinstance(x, Structure))\n",
        "print(f\"Parsed {parsed_ok.sum()} / {len(parsed)} structures ({100*parsed_ok.mean():.1f}%).\")\n",
        "\n",
        "if parsed_ok.sum() == 0:\n",
        "    raise RuntimeError(\"Parser could not reconstruct any structures from the pretty string format. \"\n",
        "                       \"Please share one exact cell (as plain text) or consider storing CIF/JSON for structures.\")\n",
        "\n",
        "# Replace column with parsed Structure objects\n",
        "df[struct_col] = parsed\n",
        "\n",
        "# -------- Featurize (two features only) --------\n",
        "gsf = GlobalSymmetryFeatures()\n",
        "labels = gsf.feature_labels()  # ['spacegroup_num','crystal_system','crystal_system_int','is_centrosymmetric','n_symmetry_ops']\n",
        "\n",
        "records = []\n",
        "for s in df[struct_col]:\n",
        "    if isinstance(s, Structure):\n",
        "        try:\n",
        "            vals = gsf.featurize(s)\n",
        "            rec = dict(zip(labels, vals))\n",
        "        except Exception:\n",
        "            rec = {lbl: np.nan for lbl in labels}\n",
        "    else:\n",
        "        rec = {lbl: np.nan for lbl in labels}\n",
        "    records.append(rec)\n",
        "\n",
        "feat_df = pd.DataFrame(records)\n",
        "out_df = pd.concat([df.reset_index(drop=True),\n",
        "                    feat_df[[\"crystal_system\", \"is_centrosymmetric\"]].reset_index(drop=True)], axis=1)\n",
        "\n",
        "# -------- Save --------\n",
        "out_df.to_csv(OUTPUT_CSV, index=False)\n",
        "print(f\"Saved: {OUTPUT_CSV}\")\n",
        "print(out_df[[\"crystal_system\", \"is_centrosymmetric\"]].isna().mean())\n",
        "out_df.head()"
      ]
    },
    {
      "cell_type": "markdown",
      "id": "093431dc",
      "metadata": {},
      "source": [
        "## 1) Setup\n",
        "read a tiny CSV and map it into RDF using `rdflib`.\n"
      ]
    },
    {
      "cell_type": "code",
      "execution_count": 2,
      "id": "0c77e382",
      "metadata": {},
      "outputs": [
        {
          "name": "stdout",
          "output_type": "stream",
          "text": [
            "Using data: E:\\Projects\\Semantic_models_for-MSE\\data\\full_dataset_Bandgap_0_to_5_featurized.csv\n",
            "Will write TTL: E:\\Projects\\Semantic_models_for-MSE\\data\\full_dataset_Bandgap_0_to_5.ttl\n"
          ]
        }
      ],
      "source": [
        "# DATA = Path(\"../data/semiconductors_small.csv\")   # CSV lives in the repo\n",
        "# TTL_OUT = Path(\"../data/semiconductors_small.ttl\")# RDF Turtle output\n",
        "# print(\"Using data:\", DATA.resolve())\n",
        "\n",
        "DATA    = Path(\"../data/full_dataset_Bandgap_0_to_5_featurized.csv\")  # input CSV\n",
        "TTL_OUT = Path(\"../data/full_dataset_Bandgap_0_to_5.ttl\")             # RDF Turtle output\n",
        "\n",
        "print(\"Using data:\", DATA.resolve())\n",
        "print(\"Will write TTL:\", TTL_OUT.resolve())"
      ]
    },
    {
      "cell_type": "markdown",
      "metadata": {},
      "source": [
        "\n",
        "## 2) Ontology skeleton (small and pragmatic)\n",
        "a few classes and properties that I actually need for the initial CSV i am using.  \n",
        "Classes: `Material`, `SynthesisMethod`, `CrystalStructure`, `Property`  \n",
        "Properties:  \n",
        "- data: `hasBandGap` (float eV), `hasLatticeConstant` (float Å)  \n",
        "- object: `hasCrystalStructure`, `synthesizedBy`\n",
        "\n",
        "- the final dataset will have: structure (crystal system and inversion center), composition and bandgap.  \n",
        "\n",
        "3 class declarations (Material, CrystalStructure, Property) → 3  \n",
        "4 property declarations (hasBandGap, hasFormula, hasExternalId, hasCrystalStructure) → 5  \n",
        "5×(domain + range) annotations → 10 for each prperty    \n",
        "Total = 3 + 5 + 10 = 18 triples."
      ]
    },
    {
      "cell_type": "code",
      "execution_count": 3,
      "metadata": {},
      "outputs": [
        {
          "name": "stdout",
          "output_type": "stream",
          "text": [
            "Ontology initialized (structure via crystal_system + inversion center, plus composition & bandgap).\n",
            "Triples so far: 18\n"
          ]
        }
      ],
      "source": [
        "# Ontology skeleton for: material_id, formula, band_gap, crystal_system, is_centrosymmetric\n",
        "# (structure captured via crystal system + inversion center only)\n",
        "\n",
        "from rdflib import Graph, Namespace, RDF, RDFS, XSD\n",
        "\n",
        "g = Graph()\n",
        "\n",
        "# Namespaces\n",
        "EX = Namespace(\"http://example.org/mse#\")\n",
        "g.bind(\"ex\", EX)\n",
        "g.bind(\"rdfs\", RDFS)\n",
        "g.bind(\"xsd\", XSD)\n",
        "\n",
        "# Classes\n",
        "Material         = EX.Material\n",
        "CrystalStructure = EX.CrystalStructure\n",
        "Property         = EX.Property  # generic placeholder\n",
        "\n",
        "for cls in [Material, CrystalStructure, Property]:\n",
        "    g.add((cls, RDF.type, RDFS.Class))\n",
        "\n",
        "# Datatype properties (aligned to featurized CSV)\n",
        "hasExternalId     = EX.hasExternalId        # -> material_id\n",
        "hasFormula        = EX.hasFormula           # -> formula (composition string)\n",
        "hasBandGap        = EX.hasBandGap           # -> band_gap (eV)\n",
        "hasCrystalSystem  = EX.hasCrystalSystem     # -> crystal_system (e.g., cubic, hexagonal)\n",
        "hasCentrosymmetric= EX.hasCentrosymmetric   # -> is_centrosymmetric (True/False)\n",
        "\n",
        "for prop in [hasExternalId, hasFormula, hasBandGap, hasCrystalSystem, hasCentrosymmetric]:\n",
        "    g.add((prop, RDF.type, RDF.Property))\n",
        "\n",
        "# Domain/Range annotations\n",
        "g.add((hasExternalId,      RDFS.domain, Material)); g.add((hasExternalId,      RDFS.range, XSD.string))\n",
        "g.add((hasFormula,         RDFS.domain, Material)); g.add((hasFormula,         RDFS.range, XSD.string))\n",
        "g.add((hasBandGap,         RDFS.domain, Material)); g.add((hasBandGap,         RDFS.range, XSD.float))\n",
        "g.add((hasCrystalSystem,   RDFS.domain, Material)); g.add((hasCrystalSystem,   RDFS.range, XSD.string))\n",
        "g.add((hasCentrosymmetric, RDFS.domain, Material)); g.add((hasCentrosymmetric, RDFS.range, XSD.boolean))\n",
        "\n",
        "print(\"Ontology initialized (structure via crystal_system + inversion center, plus composition & bandgap).\")\n",
        "print(\"Triples so far:\", len(g))"
      ]
    },
    {
      "cell_type": "markdown",
      "metadata": {},
      "source": [
        "## 3) Load CSV and mint entities  \n",
        "create IRIs (Internationalized Resource Identifier) from labels (simple normalization) and assert triples for each row."
      ]
    },
    {
      "cell_type": "code",
      "execution_count": 4,
      "metadata": {},
      "outputs": [
        {
          "name": "stdout",
          "output_type": "stream",
          "text": [
            "Data loaded. Rows: 150987\n",
            "Columns: ['material_id', 'formula', 'band_gap_eV', 'structure', 'crystal_system', 'is_centrosymmetric', 'material_label']\n"
          ]
        }
      ],
      "source": [
        "# --- 1) Read CSV and canonicalize headers for THIS project (no synthesis, no lattice const) ---\n",
        "# Featurized CSV columns: material_id, formula, band_gap, crystal_system, is_centrosymmetric\n",
        "import pandas as pd, re\n",
        "from rdflib import Literal, RDF, RDFS, XSD, URIRef\n",
        "\n",
        "# load\n",
        "df_raw = pd.read_csv(DATA)\n",
        "\n",
        "# rename to stable names my code will use everywhere\n",
        "df = df_raw.rename(columns={\n",
        "    \"material_id\":        \"material_id\",\n",
        "    \"formula\":            \"formula\",\n",
        "    \"band_gap\":           \"band_gap_eV\",\n",
        "    \"crystal_system\":     \"crystal_system\",\n",
        "    \"is_centrosymmetric\": \"is_centrosymmetric\",\n",
        "}).copy()\n",
        "\n",
        "# create a human label for the Material (use formula as the label)\n",
        "df[\"material_label\"] = df[\"formula\"]\n",
        "\n",
        "# enforce dtypes\n",
        "for col in [\"material_label\", \"formula\", \"material_id\", \"crystal_system\"]:\n",
        "    if col in df.columns:\n",
        "        df[col] = df[col].astype(\"string\")\n",
        "df[\"band_gap_eV\"] = pd.to_numeric(df.get(\"band_gap_eV\"), errors=\"coerce\")\n",
        "if \"is_centrosymmetric\" in df.columns:\n",
        "    # normalize truthy strings (e.g., \"True\"/\"FALSE\"/\"1\"/\"0\")\n",
        "    df[\"is_centrosymmetric\"] = df[\"is_centrosymmetric\"].map(\n",
        "        lambda x: bool(int(x)) if str(x).strip() in {\"1\",\"0\"} else\n",
        "                  (str(x).strip().lower() == \"true\") if pd.notna(x) else None\n",
        "    )\n",
        "\n",
        "# --- 2) Helpers (consistent across the notebook) ---\n",
        "def _slugify(text: str) -> str:\n",
        "    text = str(text).strip().replace(\" \", \"_\").replace(\"(\", \"\").replace(\")\", \"\").replace(\"/\", \"_\")\n",
        "    text = re.sub(r\"[^A-Za-z0-9_]\", \"_\", text)\n",
        "    return text\n",
        "\n",
        "def mint_entity(label, cls: URIRef, fallback_prefix: str, idx: int):\n",
        "    if label is None or (pd.isna(label) if hasattr(pd, \"isna\") else label is None) or str(label).strip() == \"\":\n",
        "        safe = f\"{fallback_prefix}_{idx}\"\n",
        "        iri  = EX[safe]\n",
        "        g.add((iri, RDF.type, cls))\n",
        "        g.add((iri, RDFS.label, Literal(f\"{fallback_prefix} #{idx}\")))\n",
        "        return iri\n",
        "    label_str = str(label)\n",
        "    safe = _slugify(label_str)\n",
        "    iri  = EX[safe]\n",
        "    g.add((iri, RDF.type, cls))\n",
        "    g.add((iri, RDFS.label, Literal(label_str)))\n",
        "    return iri\n",
        "\n",
        "print(\"Data loaded. Rows:\", len(df))\n",
        "print(\"Columns:\", list(df.columns))"
      ]
    },
    {
      "cell_type": "markdown",
      "metadata": {},
      "source": [
        "## 4) Serialize to Turtle\n",
        "write the RDF graph to a `.ttl` file so it’s versionable in Git and easy to inspect.\n"
      ]
    },
    {
      "cell_type": "code",
      "execution_count": 5,
      "metadata": {},
      "outputs": [
        {
          "name": "stdout",
          "output_type": "stream",
          "text": [
            "Wrote: E:\\Projects\\Semantic_models_for-MSE\\data\\full_dataset_Bandgap_0_to_5.ttl\n",
            "Triples in graph: 18\n",
            "File size (bytes): 768\n"
          ]
        }
      ],
      "source": [
        "# --- Serialize graph to Turtle ---\n",
        "# encoding=\"utf-8\" ensures rdflib returns bytes\n",
        "ttl_bytes = g.serialize(format=\"turtle\", encoding=\"utf-8\")\n",
        "TTL_OUT.write_bytes(ttl_bytes)\n",
        "\n",
        "# quick sanity check\n",
        "p = TTL_OUT.resolve()\n",
        "print(\"Wrote:\", p)\n",
        "print(\"Triples in graph:\", len(g))\n",
        "print(\"File size (bytes):\", p.stat().st_size)"
      ]
    },
    {
      "cell_type": "markdown",
      "metadata": {},
      "source": [
        "\n",
        "## 5) SPARQL queries (quick checks)\n",
        "query the in‑memory graph via `rdflib` to verify the ontology + data mapping.\n"
      ]
    },
    {
      "cell_type": "code",
      "execution_count": 41,
      "metadata": {},
      "outputs": [],
      "source": [
        "# Q1) Materials with band gap > 1 eV (descending)\n",
        "q1 = \"\"\"\n",
        "PREFIX ex: <http://example.org/mse#>\n",
        "SELECT ?formula ?id ?Eg\n",
        "WHERE {\n",
        "  ?m a ex:Material ;\n",
        "     rdfs:label ?formula ;\n",
        "     ex:hasBandGap ?Eg .\n",
        "  OPTIONAL { ?m ex:hasExternalId ?id }\n",
        "  FILTER(?Eg > 1.0)\n",
        "}\n",
        "ORDER BY DESC(?Eg)\n",
        "LIMIT 20\n",
        "\"\"\"\n",
        "for row in g.query(q1, initNs={\"rdfs\": RDFS}):\n",
        "    print(row)"
      ]
    },
    {
      "cell_type": "code",
      "execution_count": 7,
      "metadata": {},
      "outputs": [],
      "source": [
        "# Q2) Materials synthesized by MOCVD\n",
        "q2 = \"\"\"PREFIX ex: <http://example.org/mse#>\n",
        "SELECT ?material\n",
        "WHERE {\n",
        "  ?m a ex:Material ;\n",
        "     rdfs:label ?material ;\n",
        "     ex:synthesizedBy ?meth .\n",
        "  ?meth rdfs:label \"MOCVD\" .\n",
        "}\n",
        "\"\"\"\n",
        "for row in g.query(q2, initNs={\"rdfs\": RDFS}):\n",
        "    print(row)"
      ]
    },
    {
      "cell_type": "code",
      "execution_count": null,
      "metadata": {},
      "outputs": [],
      "source": [
        "# Q3) Materials with diamond cubic structure\n",
        "q3 = \"\"\"PREFIX ex: <http://example.org/mse#>\n",
        "SELECT ?material\n",
        "WHERE {\n",
        "  ?m a ex:Material ;\n",
        "     rdfs:label ?material ;\n",
        "     ex:hasCrystalStructure ?cs .\n",
        "  ?cs rdfs:label \"Diamond cubic\" .\n",
        "}\n",
        "\"\"\"\n",
        "for row in g.query(q3, initNs={\"rdfs\": RDFS}):\n",
        "    print(row)"
      ]
    },
    {
      "cell_type": "markdown",
      "metadata": {},
      "source": [
        "## 6) Creating safeguard for possible problems in data scrapping!!\n",
        "keep a few small rules here to catch obvious issues (labels missing, negative band gaps, etc.)."
      ]
    },
    {
      "cell_type": "code",
      "execution_count": 6,
      "metadata": {},
      "outputs": [
        {
          "name": "stdout",
          "output_type": "stream",
          "text": [
            "No obvious problems ✅\n"
          ]
        }
      ],
      "source": [
        "problems = []\n",
        "\n",
        "# A) All Materials should have labels\n",
        "for s in g.subjects(RDF.type, EX.Material):\n",
        "    if not any(True for _ in g.objects(s, RDFS.label)):\n",
        "        problems.append(f\"Material without label: {s}\")\n",
        "\n",
        "# B) Band gap must be numeric and non-negative\n",
        "for s, p, o in g.triples((None, EX.hasBandGap, None)):\n",
        "    try:\n",
        "        val = float(o.toPython())\n",
        "        if val < 0:\n",
        "            problems.append(f\"Negative band gap for {s}\")\n",
        "    except Exception:\n",
        "        problems.append(f\"Non-numeric band gap for {s}: {o}\")\n",
        "\n",
        "print(\"No obvious problems ✅\" if not problems else \"Consistency problems:\")\n",
        "for x in problems:\n",
        "    print(\"-\", x)"
      ]
    },
    {
      "cell_type": "markdown",
      "metadata": {},
      "source": [
        "\n",
        "## 7) Placeholder for LLM‑assisted extraction\n",
        "When I replace this stub with a real LLM/NLP call, I’ll feed abstracts/tables and get back candidate triples to add to the graph. This cell is just a demonstration of tideousness one has to encounter for manually adding to the KG :xD.\n"
      ]
    },
    {
      "cell_type": "code",
      "execution_count": 7,
      "metadata": {},
      "outputs": [
        {
          "name": "stdout",
          "output_type": "stream",
          "text": [
            "Triples after stub insert: 19\n"
          ]
        }
      ],
      "source": [
        "def propose_triples_from_text(text: str):\n",
        "    \"\"\"\n",
        "    Demo placeholder:\n",
        "    Pretend we parsed that 'GaN has Eg ~3.4 eV'.\n",
        "    Later this can be swapped for NLP/LLM-based extraction.\n",
        "    \"\"\"\n",
        "    return [(EX.GaN, EX.hasBandGap, Literal(3.4, datatype=XSD.float))]\n",
        "\n",
        "# Insert demo triples\n",
        "for s, p, o in propose_triples_from_text(\"GaN has band gap ~3.4 eV\"):\n",
        "    g.add((s, p, o))\n",
        "\n",
        "print(\"Triples after stub insert:\", len(g))"
      ]
    },
    {
      "cell_type": "markdown",
      "metadata": {},
      "source": [
        "\n",
        "## 8) Save again after updates\n",
        "I keep the TTL in sync with the in‑memory graph.\n"
      ]
    },
    {
      "cell_type": "code",
      "execution_count": 8,
      "metadata": {},
      "outputs": [
        {
          "name": "stdout",
          "output_type": "stream",
          "text": [
            "Updated: E:\\Projects\\Semantic_models_for-MSE\\data\\full_dataset_Bandgap_0_to_5.ttl\n",
            "Triples now in graph: 19\n"
          ]
        }
      ],
      "source": [
        "# --- Update the TTL file with new triples ---\n",
        "TTL_OUT.write_bytes(g.serialize(format=\"turtle\", encoding=\"utf-8\"))\n",
        "\n",
        "print(\"Updated:\", TTL_OUT.resolve())\n",
        "print(\"Triples now in graph:\", len(g))"
      ]
    },
    {
      "cell_type": "markdown",
      "id": "c1ec5b93",
      "metadata": {},
      "source": [
        "## 9: Plotting a knowledge graph"
      ]
    },
    {
      "cell_type": "markdown",
      "id": "4160f197",
      "metadata": {},
      "source": [
        "*for the tiny (n=5) dataset*"
      ]
    },
    {
      "cell_type": "code",
      "execution_count": null,
      "id": "5ced5f92",
      "metadata": {},
      "outputs": [
        {
          "name": "stdout",
          "output_type": "stream",
          "text": [
            "kg.html\n",
            "Wrote: kg.html (open this file in your browser)\n"
          ]
        }
      ],
      "source": [
        "# from pyvis.network import Network\n",
        "# from rdflib import Graph, URIRef, BNode, Literal\n",
        "\n",
        "\n",
        "# def display_label(term):\n",
        "#     \"\"\"Human label for a node/edge: prefer rdfs:label, then QName, then short str.\"\"\"\n",
        "#     lab = g.value(term, RDFS.label)\n",
        "#     if lab:\n",
        "#         return str(lab).strip()\n",
        "#     # QName only for URIRefs\n",
        "#     if isinstance(term, URIRef):\n",
        "#         try:\n",
        "#             return g.namespace_manager.normalizeUri(term)\n",
        "#         except Exception:\n",
        "#             pass\n",
        "#     s = str(term).strip()\n",
        "#     return s\n",
        "\n",
        "# def node_id(term):\n",
        "#     \"\"\"Stable ID for pyvis (avoid raw labels).\"\"\"\n",
        "#     # Use actual URI for URIRefs/BNodes; fallback to hash\n",
        "#     if isinstance(term, (URIRef, BNode)):\n",
        "#         return str(term)\n",
        "#     return f\"lit:{hash((str(term), type(term).__name__))}\"\n",
        "\n",
        "# def node_style(term):\n",
        "#     \"\"\"Color by class where possible (Material / CrystalStructure / SynthesisMethod).\"\"\"\n",
        "#     # Try to infer from rdf:type (lightweight check)\n",
        "#     types = set(g.objects(term, RDF.type)) if isinstance(term, (URIRef, BNode)) else set()\n",
        "#     # Resolve EX namespace if present\n",
        "#     ns = dict(g.namespace_manager.namespaces())\n",
        "#     EX = ns.get(\"ex\")\n",
        "#     def is_type(tname):\n",
        "#         return any(str(t).endswith(f\"#{tname}\") or str(t).endswith(f\"/{tname}\") for t in types)\n",
        "#     if is_type(\"Material\"):\n",
        "#         return dict(color=\"#2b8a3e\", shape=\"ellipse\")\n",
        "#     if is_type(\"CrystalStructure\"):\n",
        "#         return dict(color=\"#1c7ed6\", shape=\"ellipse\")\n",
        "#     if is_type(\"SynthesisMethod\"):\n",
        "#         return dict(color=\"#e8590c\", shape=\"ellipse\")\n",
        "#     if isinstance(term, Literal):\n",
        "#         return dict(color=\"#bfbfbf\", shape=\"box\")\n",
        "#     return dict(color=\"#666666\", shape=\"ellipse\")\n",
        "\n",
        "# def visualize_graph_pyvis(g, max_edges=1500, show_literals=False, height=\"700px\"):\n",
        "#     net = Network(height=height, width=\"100%\", directed=True, notebook=True,\n",
        "#                   cdn_resources=\"in_line\")  # avoid the Jupyter warning\n",
        "#     net.toggle_physics(True)\n",
        "\n",
        "#     added = set()\n",
        "#     edge_count = 0\n",
        "\n",
        "#     for s, p, o in g.triples((None, None, None)):\n",
        "#         if edge_count >= max_edges:\n",
        "#             break\n",
        "\n",
        "#         # skip literal nodes unless asked\n",
        "#         if not show_literals and isinstance(o, Literal):\n",
        "#             # still add edge to a small boxed literal if you like:\n",
        "#             # continue\n",
        "#             pass\n",
        "\n",
        "#         sid = node_id(s); so = node_id(o)\n",
        "#         if sid not in added:\n",
        "#             net.add_node(sid, label=display_label(s), **node_style(s))\n",
        "#             added.add(sid)\n",
        "#         if show_literals or not isinstance(o, Literal):\n",
        "#             if so not in added:\n",
        "#                 net.add_node(so, label=display_label(o), **node_style(o))\n",
        "#                 added.add(so)\n",
        "\n",
        "#         net.add_edge(sid, so, label=display_label(p))\n",
        "#         edge_count += 1\n",
        "\n",
        "#     net.show(\"kg.html\")\n",
        "#     print(\"Wrote: kg.html (open this file in your browser)\")\n",
        "\n",
        "# visualize_graph_pyvis(g, max_edges=1000, show_literals=True)"
      ]
    },
    {
      "cell_type": "markdown",
      "id": "bd977d21",
      "metadata": {},
      "source": [
        "*For the mostly semiconductor (0-5 ev) large (>15k) dataset*  \n",
        "- via `HTML`"
      ]
    },
    {
      "cell_type": "code",
      "execution_count": 9,
      "id": "28205d00",
      "metadata": {},
      "outputs": [
        {
          "name": "stdout",
          "output_type": "stream",
          "text": [
            "kg.html\n",
            "Wrote: kg.html (open in your browser)\n"
          ]
        }
      ],
      "source": [
        "# Lightweight KG visualization adapted to  ontology (Material, CrystalStructure, bandgap, crystal_system, is_centrosymmetric)\n",
        "from pyvis.network import Network\n",
        "from rdflib import Graph, URIRef, BNode, Literal, RDF, RDFS\n",
        "\n",
        "def display_label(term):\n",
        "    \"\"\"Prefer rdfs:label, then QName/localname, else str(term).\"\"\"\n",
        "    lab = g.value(term, RDFS.label)\n",
        "    if lab:\n",
        "        return str(lab).strip()\n",
        "    if isinstance(term, URIRef):\n",
        "        try:\n",
        "            return g.namespace_manager.normalizeUri(term)\n",
        "        except Exception:\n",
        "            pass\n",
        "        s = str(term)\n",
        "        return s.rsplit(\"#\", 1)[-1].rsplit(\"/\", 1)[-1]\n",
        "    return str(term).strip()\n",
        "\n",
        "def node_id(term):\n",
        "    \"\"\"Stable ID for pyvis.\"\"\"\n",
        "    if isinstance(term, (URIRef, BNode)):\n",
        "        return str(term)\n",
        "    return f\"lit:{hash((str(term), type(term).__name__))}\"\n",
        "\n",
        "def node_style(term):\n",
        "    \"\"\"Color by class (Material / CrystalStructure); literals boxed.\"\"\"\n",
        "    types = set(g.objects(term, RDF.type)) if isinstance(term, (URIRef, BNode)) else set()\n",
        "\n",
        "    def has_type(local):\n",
        "        return any(str(t).endswith(f\"#{local}\") or str(t).endswith(f\"/{local}\") for t in types)\n",
        "\n",
        "    if has_type(\"Material\"):\n",
        "        return dict(color=\"#2b8a3e\", shape=\"ellipse\")\n",
        "    if has_type(\"CrystalStructure\"):\n",
        "        return dict(color=\"#1c7ed6\", shape=\"ellipse\")\n",
        "    if isinstance(term, Literal):\n",
        "        return dict(color=\"#bfbfbf\", shape=\"box\")\n",
        "    return dict(color=\"#666666\", shape=\"ellipse\")\n",
        "\n",
        "def visualize_graph_pyvis(g, max_edges=2000, show_literals=True, height=\"700px\", out_html=\"kg.html\"):\n",
        "    net = Network(height=height, width=\"100%\", directed=True, notebook=True, cdn_resources=\"in_line\")\n",
        "    net.toggle_physics(True)\n",
        "\n",
        "    added = set()\n",
        "    edge_count = 0\n",
        "\n",
        "    for s, p, o in g.triples((None, None, None)):\n",
        "        if edge_count >= max_edges:\n",
        "            break\n",
        "\n",
        "        # Optionally skip literals\n",
        "        if not show_literals and isinstance(o, Literal):\n",
        "            continue\n",
        "\n",
        "        sid = node_id(s)\n",
        "        oid = node_id(o)\n",
        "\n",
        "        if sid not in added:\n",
        "            net.add_node(sid, label=display_label(s), **node_style(s))\n",
        "            added.add(sid)\n",
        "        if show_literals or not isinstance(o, Literal):\n",
        "            if oid not in added:\n",
        "                net.add_node(oid, label=display_label(o), **node_style(o))\n",
        "                added.add(oid)\n",
        "\n",
        "        # Shorten common predicate labels for readability\n",
        "        pred_label = display_label(p)\n",
        "        pred_label = pred_label.replace(\"ex:\", \"\")\n",
        "        pred_label = pred_label.replace(\"hasCrystalSystem\", \"crystal_system\")\n",
        "        pred_label = pred_label.replace(\"hasCentrosymmetric\", \"centrosymmetric\")\n",
        "        pred_label = pred_label.replace(\"hasBandGap\", \"band_gap_eV\")\n",
        "        pred_label = pred_label.replace(\"hasFormula\", \"formula\")\n",
        "        pred_label = pred_label.replace(\"hasExternalId\", \"material_id\")\n",
        "\n",
        "        net.add_edge(sid, oid, label=pred_label)\n",
        "        edge_count += 1\n",
        "\n",
        "    net.show(out_html)\n",
        "    print(f\"Wrote: {out_html} (open in your browser)\")\n",
        "\n",
        "visualize_graph_pyvis(g, max_edges=1000, show_literals=True, out_html=\"kg.html\")"
      ]
    },
    {
      "cell_type": "markdown",
      "id": "f183974d",
      "metadata": {},
      "source": [
        "- Via `Graphviz`"
      ]
    },
    {
      "cell_type": "code",
      "execution_count": 21,
      "id": "04ce750f",
      "metadata": {},
      "outputs": [
        {
          "name": "stdout",
          "output_type": "stream",
          "text": [
            "Wrote: kg_graphviz.png\n"
          ]
        }
      ],
      "source": [
        "import os\n",
        "os.environ[\"PATH\"] += os.pathsep + r\"C:\\Program Files\\Graphviz\\bin\" \n",
        "from graphviz import Digraph\n",
        "import hashlib\n",
        "\n",
        "def nlabel(t):\n",
        "    lab = g.value(t, RDFS.label)\n",
        "    if lab: return str(lab)\n",
        "    if isinstance(t, URIRef):\n",
        "        try: return g.namespace_manager.normalizeUri(t)\n",
        "        except: pass\n",
        "    return str(t)\n",
        "\n",
        "def nid(t):\n",
        "    return hashlib.md5(str(t).encode(\"utf-8\")).hexdigest()  # safe ID for DOT\n",
        "\n",
        "def nshape(t):\n",
        "    return \"box\" if isinstance(t, Literal) else \"ellipse\"\n",
        "\n",
        "def ncolor(t):\n",
        "    types = set(g.objects(t, RDF.type)) if isinstance(t, URIRef) else set()\n",
        "    def has(local): return any(str(tt).endswith(f\"#{local}\") or str(tt).endswith(f\"/{local}\") for tt in types)\n",
        "    if has(\"Material\"): return \"#2b8a3e\"\n",
        "    if has(\"CrystalStructure\"): return \"#1c7ed6\"\n",
        "    return \"#666666\"\n",
        "\n",
        "dot = Digraph(engine=\"dot\")  # or \"sfdp\" for large graphs\n",
        "dot.attr(rankdir=\"LR\")\n",
        "\n",
        "seen = set()\n",
        "for s, p, o in g.triples((None, None, None)):\n",
        "    sid, oid = nid(s), nid(o)\n",
        "    if sid not in seen:\n",
        "        dot.node(sid, label=nlabel(s), shape=nshape(s), color=ncolor(s)); seen.add(sid)\n",
        "    if oid not in seen:\n",
        "        dot.node(oid, label=nlabel(o), shape=nshape(o), color=ncolor(o)); seen.add(oid)\n",
        "    dot.edge(sid, oid, label=nlabel(p).replace(\"ex:\", \"\"))\n",
        "\n",
        "dot.render(\"kg_graphviz\", format=\"png\", cleanup=True)\n",
        "print(\"Wrote: kg_graphviz.png\")"
      ]
    },
    {
      "cell_type": "markdown",
      "id": "11b3bd6e",
      "metadata": {},
      "source": [
        "# Utilizing `LLM`  in `KG pipeline`  \n",
        "The KG is like a well-organized library: every material is a “book,” and the properties (band gap, crystal system, centrosymmetry, formula) are the “catalog cards.”  \n",
        "\n",
        "The LLM is like a librarian who understands natural language: I can ask, “Which semiconductors are cubic and non-centrosymmetric with band gap > 2 eV?” and the LLM can translate that into graph queries or even propose new triples. Without the LLM, I’d have to speak in SPARQL (machine query language). With the LLM, I can speak in plain English, and it reformulates my request into the right graph operations.  \n",
        "\n",
        "Another role: the LLM can ingest external text (papers, reports) and suggest new triples to insert, like the librarian reading new books and updating the catalog automatically.  \n",
        "\n",
        "`Net effect:`\n",
        "KG = structured factual memory (precise, but rigid). LLM = flexible reasoning & translation layer (imprecise, but good at language). Together = I get both rigor and flexibility.\n"
      ]
    },
    {
      "cell_type": "markdown",
      "id": "56c4fd2c",
      "metadata": {},
      "source": [
        "*Quick smoke test*\n",
        "-Chat GPT: doesnt support api access for plus user."
      ]
    },
    {
      "cell_type": "code",
      "execution_count": 13,
      "id": "3bed8981",
      "metadata": {},
      "outputs": [],
      "source": [
        "# from openai import OpenAI\n",
        "# import os, json\n",
        "\n",
        "# assert os.getenv(\"OPENAI_API_KEY\"), \"API key missing\"\n",
        "# client = OpenAI()\n",
        "\n",
        "# resp = client.chat.completions.create(\n",
        "#     model=\"gpt-4o-mini\",\n",
        "#     response_format={\"type\": \"json_object\"},   # ← JSON mode\n",
        "#     messages=[\n",
        "#         {\"role\":\"system\",\"content\":\"Return valid JSON only.\"},\n",
        "#         {\"role\":\"user\",\"content\":\"Respond with {\\\"ok\\\": true}\"}\n",
        "#     ],\n",
        "#     temperature=0\n",
        "# )\n",
        "# print(json.loads(resp.choices[0].message.content))"
      ]
    },
    {
      "cell_type": "markdown",
      "id": "6297a69e",
      "metadata": {},
      "source": [
        "*Quick smoke test*  \n",
        "-OLLAMA offers llms to be run on local machines and an API."
      ]
    },
    {
      "cell_type": "code",
      "execution_count": null,
      "id": "4ff91c11",
      "metadata": {},
      "outputs": [
        {
          "name": "stdout",
          "output_type": "stream",
          "text": [
            "{'ok': True}\n"
          ]
        }
      ],
      "source": [
        "# import json, ollama\n",
        "# r = ollama.chat(\n",
        "#     model='llama3.2:3b',\n",
        "#     messages=[{\"role\":\"system\",\"content\":\"Return ONLY valid JSON.\"},\n",
        "#               {\"role\":\"user\",\"content\":'{\"ok\": true}'}],\n",
        "#     format='json',\n",
        "#     options={'temperature': 0}\n",
        "# )\n",
        "# print(json.loads(r['message']['content']))"
      ]
    },
    {
      "cell_type": "markdown",
      "id": "2126be6d",
      "metadata": {},
      "source": [
        "**Wiring 'ollama'into the pipeline.**  \n",
        "a. `ingestion` via OLLAMA  \n",
        "1. Schema"
      ]
    },
    {
      "cell_type": "code",
      "execution_count": 10,
      "id": "01ba9f82",
      "metadata": {},
      "outputs": [],
      "source": [
        "# Pydantic schema for LLM ↔ KG handoff (natural language → structured facts)\n",
        "from pydantic import BaseModel, Field\n",
        "from typing import Optional\n",
        "\n",
        "class RowOut(BaseModel):\n",
        "    # Human-readable material label (e.g., formula); becomes rdfs:label on EX.Material\n",
        "    material: str\n",
        "\n",
        "    # Columns we actually model in this project\n",
        "    formula: Optional[str] = None                 # -> ex:hasFormula\n",
        "    material_id: Optional[str] = None             # -> ex:hasExternalId\n",
        "    crystal_system: Optional[str] = None          # -> ex:hasCrystalSystem\n",
        "    is_centrosymmetric: Optional[bool] = None     # -> ex:hasCentrosymmetric\n",
        "\n",
        "    # Numeric property (kept), no synthesis/lattice here\n",
        "    band_gap_eV: Optional[float] = Field(default=None, ge=0)  # -> ex:hasBandGap (eV)"
      ]
    },
    {
      "cell_type": "markdown",
      "id": "0845a93e",
      "metadata": {},
      "source": [
        "2. Building 'hints' from data"
      ]
    },
    {
      "cell_type": "code",
      "execution_count": 11,
      "id": "f7aa03a1",
      "metadata": {},
      "outputs": [
        {
          "name": "stdout",
          "output_type": "stream",
          "text": [
            "crystal_systems: ['cubic', 'hexagonal', 'monoclinic', 'orthorhombic', 'tetragonal', 'triclinic', 'trigonal']\n",
            "centrosymmetric values: [False, True]\n"
          ]
        }
      ],
      "source": [
        "# (LLM role: use these sets to validate/normalize outputs before making triples)\n",
        "\n",
        "allowed_crystal_systems = sorted(set(str(x).strip() for x in df['crystal_system'].dropna()))\n",
        "allowed_centrosym       = sorted(set(bool(x) for x in df['is_centrosymmetric'].dropna()))\n",
        "\n",
        "## aliases for my old schema:\n",
        "# allowed_structs = allowed_crystal_systems  \n",
        "# allowed_methods = []    \n",
        "                   \n",
        "print(\"crystal_systems:\", allowed_crystal_systems)\n",
        "print(\"centrosymmetric values:\", allowed_centrosym)"
      ]
    },
    {
      "cell_type": "markdown",
      "id": "e8da4c51",
      "metadata": {},
      "source": [
        "3. Normalization of data-row (that're gonna be parsed) with 'ollama'.  \n",
        "`Pydantic:` Python's most popular data validation library that can turn type hints into runtime validation rules. Instead of writing dozens of if isinstance() checks and custom validation functions, you define your data structure once using familiar Python syntax"
      ]
    },
    {
      "cell_type": "code",
      "execution_count": 12,
      "id": "10a1235b",
      "metadata": {},
      "outputs": [
        {
          "name": "stdout",
          "output_type": "stream",
          "text": [
            "Using Ollama model: llama3.2:3b\n"
          ]
        }
      ],
      "source": [
        "# LLM role: normalize free-text → canonical KG schema (RAM-friendly w/ fallbacks)\n",
        "import json, ollama\n",
        "from pydantic import ValidationError\n",
        "\n",
        "# try tiny/quantized first; pull if missing: `ollama pull llama3.2:1b`\n",
        "OLLAMA_MODEL_CANDIDATES = [\n",
        "    'llama3.2:1b',\n",
        "    'llama3.2:1b-instruct',\n",
        "    'llama3.2:3b-instruct-q4_0',\n",
        "    'llama3.2:3b-q4_0',\n",
        "    'llama3.2:3b',  # last resort\n",
        "]\n",
        "\n",
        "OLLAMA_OPTIONS = {\n",
        "    'temperature': 0,\n",
        "    'num_ctx': 512,   # shrink context to save RAM\n",
        "    'num_batch': 16,  # smaller batches\n",
        "    # 'num_gpu': 0,   # uncomment to force CPU if VRAM is tight\n",
        "}\n",
        "\n",
        "SYSTEM = f\"\"\"\n",
        "You are a materials KG assistant.\n",
        "Return ONLY JSON with keys EXACTLY:\n",
        "material, formula, material_id, crystal_system, is_centrosymmetric, band_gap_eV.\n",
        "\n",
        "Normalization rules:\n",
        "- crystal_system → pick from this list when possible: {allowed_crystal_systems}\n",
        "- is_centrosymmetric → boolean true/false (accept yes/no/1/0/centro/non-centro)\n",
        "- band_gap_eV → float in eV; use null if unknown\n",
        "- formula/material_id may be null if unknown\n",
        "- Do not invent values; prefer null over guesses\n",
        "\"\"\"\n",
        "\n",
        "def _to_bool(x):\n",
        "    if x is None: return None\n",
        "    s = str(x).strip().lower()\n",
        "    if s in {\"true\",\"yes\",\"y\",\"1\",\"t\"}: return True\n",
        "    if s in {\"false\",\"no\",\"n\",\"0\",\"f\"}: return False\n",
        "    return None\n",
        "\n",
        "def _pick_model():\n",
        "    for m in OLLAMA_MODEL_CANDIDATES:\n",
        "        try:\n",
        "            # cheap ping to see if it loads in memory\n",
        "            ollama.chat(model=m, messages=[{\"role\":\"user\",\"content\":\"ping\"}], options={'num_ctx':128,'temperature':0})\n",
        "            return m\n",
        "        except Exception:\n",
        "            continue\n",
        "    raise RuntimeError(\"No suitable Ollama model available. Pull one of: \" + \", \".join(OLLAMA_MODEL_CANDIDATES))\n",
        "\n",
        "_MODEL = _pick_model()\n",
        "print(\"Using Ollama model:\", _MODEL)\n",
        "\n",
        "def normalize_row_with_ollama(row: dict) -> RowOut:\n",
        "    msg = f\"Normalize this row to the schema: {row}\"\n",
        "    tried = set()\n",
        "    model = _MODEL\n",
        "    while True:\n",
        "        try:\n",
        "            resp = ollama.chat(\n",
        "                model=model,\n",
        "                messages=[{\"role\":\"system\",\"content\": SYSTEM},\n",
        "                          {\"role\":\"user\",\"content\": msg}],\n",
        "                format='json',\n",
        "                options=OLLAMA_OPTIONS\n",
        "            )\n",
        "            data = json.loads(resp['message']['content'])\n",
        "            if \"is_centrosymmetric\" in data:\n",
        "                data[\"is_centrosymmetric\"] = _to_bool(data[\"is_centrosymmetric\"])\n",
        "            return RowOut(**data)\n",
        "        except ValidationError:\n",
        "            # minimal, safe fallback coercions\n",
        "            return RowOut(\n",
        "                material=str(data.get(\"material\",\"\")).strip() or \"Unknown\",\n",
        "                formula=(str(data[\"formula\"]).strip() if data.get(\"formula\") not in (None,\"\") else None),\n",
        "                material_id=(str(data[\"material_id\"]).strip() if data.get(\"material_id\") not in (None,\"\") else None),\n",
        "                crystal_system=(str(data[\"crystal_system\"]).strip() if data.get(\"crystal_system\") not in (None,\"\") else None),\n",
        "                is_centrosymmetric=_to_bool(data.get(\"is_centrosymmetric\")),\n",
        "                band_gap_eV=(float(data[\"band_gap_eV\"]) if str(data.get(\"band_gap_eV\",\"\")).strip() not in {\"\", \"None\"} else None),\n",
        "            )\n",
        "        except Exception:\n",
        "            tried.add(model)\n",
        "            # try next lighter/quantized model\n",
        "            model = next((m for m in OLLAMA_MODEL_CANDIDATES if m not in tried), None)\n",
        "            if not model:\n",
        "                raise"
      ]
    },
    {
      "cell_type": "markdown",
      "id": "a9936998",
      "metadata": {},
      "source": [
        "4. Appending normalized result into my graph.  \n",
        "*safeguard for dedupe, provenance, and idempotency are wired.*    \n",
        "- add two provenance props (ex:statedIn, ex:hasProvenanceId) to the ontology.  \n",
        "- build in-memory indices of existing materials by material_id and by formula (for dedupe).  \n",
        "- add_once(s,p,o): guard so the same triple isn’t added twice.  \n",
        "- get_or_create_material(...): reuse an existing material by material_id (first) or formula (fallback); otherwise mint a new one and register it in the indices.   \n",
        "- small cache for provenance nodes so the same (label,id) source isn’t duplicated.  \n",
        "- ingest_normalized_row(...): idempotently attach hasFormula, hasExternalId, hasBandGap, hasCrystalSystem, hasCentrosymmetric; optionally link a provenance node via ex:statedIn; return the material IRI."
      ]
    },
    {
      "cell_type": "code",
      "execution_count": 13,
      "id": "2dbbfe77",
      "metadata": {},
      "outputs": [],
      "source": [
        "# LLM → KG: ingest a normalized row (idempotent, dedupe, provenance)\n",
        "\n",
        "from rdflib import Literal, XSD, BNode, RDF, RDFS\n",
        "from typing import Optional  # For python 3.10 users: replace str|None with Optional[str]\n",
        "\n",
        "# --- 0) Ontology add-ons (once) ---\n",
        "statedIn        = EX.statedIn\n",
        "hasProvenanceId = EX.hasProvenanceId\n",
        "for prop in [statedIn, hasProvenanceId]:\n",
        "    g.add((prop, RDF.type, RDF.Property))\n",
        "    g.add((prop, RDFS.domain, RDFS.Resource))\n",
        "    g.add((prop, RDFS.range,  RDFS.Resource))\n",
        "\n",
        "# --- 1) Fast lookup indices for dedupe by material_id / formula ---\n",
        "def _index_materials():\n",
        "    by_mid, by_formula = {}, {}\n",
        "    for m in g.subjects(RDF.type, Material):\n",
        "        mid = g.value(m, hasExternalId)\n",
        "        if mid:   by_mid[str(mid)] = m\n",
        "        form = g.value(m, hasFormula)\n",
        "        if form:  by_formula[str(form)] = m\n",
        "    return by_mid, by_formula\n",
        "\n",
        "MAT_BY_ID, MAT_BY_FORMULA = _index_materials()\n",
        "\n",
        "# --- 2) Idempotent triple adder ---\n",
        "def add_once(s, p, o):\n",
        "    if (s, p, o) not in g:\n",
        "        g.add((s, p, o))\n",
        "\n",
        "# --- 3) Get-or-create material with dedupe rules ---\n",
        "def get_or_create_material(material_id: Optional[str], formula: Optional[str], label: Optional[str], idx: int):\n",
        "    # Prefer material_id, else formula\n",
        "    if material_id and material_id in MAT_BY_ID:\n",
        "        return MAT_BY_ID[material_id]\n",
        "    if formula and formula in MAT_BY_FORMULA:\n",
        "        return MAT_BY_FORMULA[formula]\n",
        "    # Mint new\n",
        "    m = mint_entity(label or formula or material_id, Material, \"Material\", idx)\n",
        "    if material_id:\n",
        "        add_once(m, hasExternalId, Literal(material_id, datatype=XSD.string))\n",
        "        MAT_BY_ID[material_id] = m\n",
        "    if formula:\n",
        "        add_once(m, hasFormula, Literal(formula, datatype=XSD.string))\n",
        "        MAT_BY_FORMULA[formula] = m\n",
        "    return m\n",
        "\n",
        "# --- 4) Provenance node helper with small cache to avoid duplicates ---\n",
        "_SOURCE_CACHE = {}  # key: (label, id) -> BNode\n",
        "\n",
        "def make_source_node(source_label: Optional[str] = None, source_id: Optional[str] = None):\n",
        "    key = (source_label or \"\", source_id or \"\")\n",
        "    if key in _SOURCE_CACHE:\n",
        "        return _SOURCE_CACHE[key]\n",
        "    src = BNode()\n",
        "    if source_label:\n",
        "        add_once(src, RDFS.label, Literal(source_label))\n",
        "    if source_id:\n",
        "        add_once(src, hasProvenanceId, Literal(source_id))\n",
        "    _SOURCE_CACHE[key] = src\n",
        "    return src\n",
        "\n",
        "# --- 5) Ingest (idempotent + dedupe + provenance) ---\n",
        "def ingest_normalized_row(nr: RowOut, idx: int = 0,\n",
        "                          source_label: Optional[str] = None,\n",
        "                          source_id: Optional[str] = None):\n",
        "    m = get_or_create_material(\n",
        "        material_id = getattr(nr, \"material_id\", None),\n",
        "        formula     = getattr(nr, \"formula\", None),\n",
        "        label       = nr.material,\n",
        "        idx         = idx\n",
        "    )\n",
        "\n",
        "    if getattr(nr, \"formula\", None):\n",
        "        add_once(m, hasFormula, Literal(str(nr.formula), datatype=XSD.string))\n",
        "    if getattr(nr, \"material_id\", None):\n",
        "        add_once(m, hasExternalId, Literal(str(nr.material_id), datatype=XSD.string))\n",
        "    if nr.band_gap_eV is not None:\n",
        "        add_once(m, hasBandGap, Literal(float(nr.band_gap_eV), datatype=XSD.float))\n",
        "    if getattr(nr, \"crystal_system\", None):\n",
        "        add_once(m, hasCrystalSystem, Literal(str(nr.crystal_system), datatype=XSD.string))\n",
        "    if getattr(nr, \"is_centrosymmetric\", None) is not None:\n",
        "        add_once(m, hasCentrosymmetric, Literal(bool(nr.is_centrosymmetric), datatype=XSD.boolean))\n",
        "\n",
        "    if source_label or source_id:\n",
        "        src = make_source_node(source_label, source_id)\n",
        "        add_once(m, statedIn, src)\n",
        "\n",
        "    return m"
      ]
    },
    {
      "cell_type": "markdown",
      "id": "b56be121",
      "metadata": {},
      "source": [
        "b. `Query via OLLAMA`  \n",
        "**NL → SPARQL → rdflib query → DataFrame**"
      ]
    },
    {
      "cell_type": "code",
      "execution_count": 16,
      "id": "e66fe194",
      "metadata": {},
      "outputs": [],
      "source": [
        "# NL → SPARQL with safety rails + sanitizer\n",
        "import json, ollama, pandas as pd\n",
        "\n",
        "SPARQL_PREFIX = \"\"\"PREFIX ex: <http://example.org/mse#>\n",
        "PREFIX rdfs: <http://www.w3.org/2000/01/rdf-schema#>\n",
        "PREFIX xsd: <http://www.w3.org/2001/XMLSchema#>\n",
        "\"\"\"\n",
        "\n",
        "NL2SPARQL_SYSTEM = f\"\"\"\n",
        "Generate SPARQL SELECT for this ontology:\n",
        "\n",
        "Class:\n",
        "  ex:Material\n",
        "\n",
        "Properties on ex:Material (all literals):\n",
        "  ex:hasFormula (xsd:string)         -> ?formula\n",
        "  ex:hasExternalId (xsd:string)\n",
        "  ex:hasBandGap (xsd:float)          -> ?bandgap\n",
        "  ex:hasCrystalSystem (xsd:string)   -> ?crystal_system\n",
        "  ex:hasCentrosymmetric (xsd:boolean)-> ?centro\n",
        "\n",
        "Rules (IMPORTANT):\n",
        "- Output ONLY a SPARQL SELECT query.\n",
        "- Include the PREFIX block exactly as given by the user.\n",
        "- Always BIND variables before filtering them.\n",
        "- DO NOT use 'NOT'. To require non-centrosymmetric, bind and filter: ?m ex:hasCentrosymmetric ?centro . FILTER(?centro = false)\n",
        "- If filtering band gap, ensure ?bandgap is bound (use OPTIONAL if the question doesn't require it).\n",
        "- Default projection (if unspecified): ?m ?formula ?bandgap ?crystal_system ?centro\n",
        "\"\"\"\n",
        "\n",
        "def nl_to_sparql(question: str, model='llama3.2:1b'):\n",
        "    prompt = f\"\"\"{SPARQL_PREFIX}\n",
        "# Question:\n",
        "{question}\n",
        "# Write a valid SPARQL SELECT:\"\"\"\n",
        "    resp = ollama.chat(\n",
        "        model=model,\n",
        "        messages=[{\"role\":\"system\",\"content\": NL2SPARQL_SYSTEM},\n",
        "                  {\"role\":\"user\",\"content\": prompt}],\n",
        "        options={'temperature': 0, 'num_ctx': 512}\n",
        "    )\n",
        "    q = resp['message']['content'].strip()\n",
        "    if q.startswith(\"```\"):\n",
        "        q = q.strip(\"`\").split(\"\\n\",1)[1]\n",
        "    return sanitize_sparql(q)\n",
        "\n",
        "def sanitize_sparql(q: str) -> str:\n",
        "    # Ensure PREFIX present\n",
        "    if \"PREFIX ex:\" not in q:\n",
        "        q = SPARQL_PREFIX + \"\\n\" + q\n",
        "\n",
        "    # Replace bad 'NOT ?m ex:hasCentrosymmetric .' usages\n",
        "    q = q.replace(\"NOT ?m ex:hasCentrosymmetric .\", \"?m ex:hasCentrosymmetric ?centro . FILTER(?centro = false)\")\n",
        "    q = q.replace(\"NOT (?m ex:hasCentrosymmetric)\", \"?m ex:hasCentrosymmetric ?centro . FILTER(?centro = false)\")\n",
        "\n",
        "    # Ensure bindings exist before filters\n",
        "    where_lower = q.lower()\n",
        "    needs_bandgap = \"bandgap\" in where_lower and \"ex:hasbandgap\" not in where_lower\n",
        "    if needs_bandgap:\n",
        "        # insert OPTIONAL binding for bandgap just before the closing '}'\n",
        "        q = q.replace(\"WHERE {\", \"WHERE {\\n  OPTIONAL { ?m ex:hasBandGap ?bandgap }\")\n",
        "\n",
        "    needs_centro = (\"centro\" in where_lower) and (\"ex:hascentrosymmetric\" not in where_lower)\n",
        "    if needs_centro:\n",
        "        q = q.replace(\"WHERE {\", \"WHERE {\\n  ?m ex:hasCentrosymmetric ?centro .\")\n",
        "\n",
        "    # Ensure projection columns if none are provided\n",
        "    if \"SELECT\" in q and \"*\" in q.split(\"WHERE\")[0]:\n",
        "        q = q.replace(\"SELECT *\", \"SELECT ?m ?formula ?bandgap ?crystal_system ?centro\")\n",
        "\n",
        "    # Always OPTIONAL-bind formula/crystal_system for nicer outputs\n",
        "    if \"ex:hasFormula\" not in q:\n",
        "        q = q.replace(\"WHERE {\", \"WHERE {\\n  OPTIONAL { ?m ex:hasFormula ?formula }\")\n",
        "    if \"ex:hasCrystalSystem\" not in q:\n",
        "        q = q.replace(\"WHERE {\", \"WHERE {\\n  OPTIONAL { ?m ex:hasCrystalSystem ?crystal_system }\")\n",
        "\n",
        "    return q\n",
        "\n",
        "def run_sparql(query: str):\n",
        "    qres = g.query(query)\n",
        "    cols = [str(v) for v in qres.vars]\n",
        "    rows = [{str(k): (str(v) if v is not None else None) for k,v in zip(cols, r)} for r in qres]\n",
        "    return pd.DataFrame(rows, columns=cols)\n",
        "\n",
        "def ask_kg(question: str, model=None):\n",
        "    # Reuse the model chosen in the normalization cell; or allow override\n",
        "    model = model or _MODEL\n",
        "    sparql = nl_to_sparql(question, model=model)\n",
        "    print(\"SPARQL:\\n\", sparql)\n",
        "    return run_sparql(sparql)"
      ]
    },
    {
      "cell_type": "markdown",
      "id": "7cb45929",
      "metadata": {},
      "source": [
        "**Pre-Scale-up sanity-check.**  \n",
        "Demo: add a few new entries from text, then query"
      ]
    },
    {
      "cell_type": "code",
      "execution_count": 17,
      "id": "e240099d",
      "metadata": {},
      "outputs": [
        {
          "name": "stdout",
          "output_type": "stream",
          "text": [
            "Triples after new text ingestion: 48\n",
            "SPARQL:\n",
            " PREFIX ex: <http://example.org/mse#>\n",
            "PREFIX rdfs: <http://www.w3.org/2000/01/rdf-schema#>\n",
            "PREFIX xsd: <http://www.w3.org/2001/XMLSchema#>\n",
            "\n",
            "SELECT ?m ?formula ?bandgap ?crystal_system \n",
            "WHERE {\n",
            "  ?m ex:hasCentrosymmetric ?centro .\n",
            "  FILTER(?centro = false)\n",
            "  ?m ex:hasFormula ?formula .\n",
            "  ?m ex:hasBandGap ?bandgap .\n",
            "  ?m ex:hasCrystalSystem ?crystal_system .\n",
            "}\n",
            "\n"
          ]
        },
        {
          "data": {
            "application/vnd.microsoft.datawrangler.viewer.v0+json": {
              "columns": [
                {
                  "name": "index",
                  "rawType": "int64",
                  "type": "integer"
                },
                {
                  "name": "m",
                  "rawType": "object",
                  "type": "string"
                },
                {
                  "name": "formula",
                  "rawType": "object",
                  "type": "string"
                },
                {
                  "name": "bandgap",
                  "rawType": "object",
                  "type": "string"
                },
                {
                  "name": "crystal_system",
                  "rawType": "object",
                  "type": "string"
                }
              ],
              "ref": "16feaa75-4171-468c-8b22-9a529719db82",
              "rows": [],
              "shape": {
                "columns": 4,
                "rows": 0
              }
            },
            "text/html": [
              "<div>\n",
              "<style scoped>\n",
              "    .dataframe tbody tr th:only-of-type {\n",
              "        vertical-align: middle;\n",
              "    }\n",
              "\n",
              "    .dataframe tbody tr th {\n",
              "        vertical-align: top;\n",
              "    }\n",
              "\n",
              "    .dataframe thead th {\n",
              "        text-align: right;\n",
              "    }\n",
              "</style>\n",
              "<table border=\"1\" class=\"dataframe\">\n",
              "  <thead>\n",
              "    <tr style=\"text-align: right;\">\n",
              "      <th></th>\n",
              "      <th>m</th>\n",
              "      <th>formula</th>\n",
              "      <th>bandgap</th>\n",
              "      <th>crystal_system</th>\n",
              "    </tr>\n",
              "  </thead>\n",
              "  <tbody>\n",
              "  </tbody>\n",
              "</table>\n",
              "</div>"
            ],
            "text/plain": [
              "Empty DataFrame\n",
              "Columns: [m, formula, bandgap, crystal_system]\n",
              "Index: []"
            ]
          },
          "execution_count": 17,
          "metadata": {},
          "output_type": "execute_result"
        }
      ],
      "source": [
        "# --- New knowledge from text (fabricated) → RowOut via LLM → ingest with provenance ---\n",
        "texts = [\n",
        "    \"β-Ga2O3 has a band gap around 4.8 eV and is monoclinic; it's centrosymmetric.\",\n",
        "    \"InP (zinc blende) band gap ~1.34 eV; non-centrosymmetric.\",\n",
        "    \"ZnO wurtzite, band gap ≈ 3.3 eV; non-centrosymmetric.\",\n",
        "]\n",
        "\n",
        "for k, t in enumerate(texts, 1):\n",
        "    nr = normalize_row_with_ollama({\"text\": t})                             # LLM extracts to the schema\n",
        "    ingest_normalized_row(nr, idx=100000+k,                                 # large idx to avoid collisions\n",
        "                          source_label=\"fabricated_demo\",                   # provenance\n",
        "                          source_id=f\"demo:{k}\")\n",
        "\n",
        "print(\"Triples after new text ingestion:\", len(g))\n",
        "\n",
        "# NL query via LLM → SPARQL\n",
        "ask_kg(\"List non-centrosymmetric semiconductors with band gap > 3 eV, show formula and crystal system.\")"
      ]
    },
    {
      "cell_type": "markdown",
      "id": "f89ad36e",
      "metadata": {},
      "source": [
        "*Ingest a new CSV (dedupe by material_id→formula)*  \n",
        "**Usage:**  \n",
        "*ingest_new_csv(\"../data/new_semiconductors.csv\", update_df=False)  # KG only*  \n",
        "*ingest_new_csv(\"../data/new_semiconductors.csv\", update_df=True)   # also append to df*"
      ]
    },
    {
      "cell_type": "code",
      "execution_count": null,
      "id": "8fd836d8",
      "metadata": {},
      "outputs": [],
      "source": [
        "import pandas as pd\n",
        "\n",
        "def _norm_str(x):\n",
        "    return str(x).strip() if pd.notna(x) and str(x).strip() not in {\"\", \"nan\", \"None\"} else None\n",
        "\n",
        "def ingest_new_csv(csv_path: str, update_df: bool = False):\n",
        "    new_df = pd.read_csv(csv_path)\n",
        "\n",
        "    # align columns if needed\n",
        "    rename_map = {\n",
        "        \"band_gap\": \"band_gap_eV\",\n",
        "        \"crystalsystem\": \"crystal_system\",\n",
        "        \"centrosymmetric\": \"is_centrosymmetric\",\n",
        "    }\n",
        "    new_df = new_df.rename(columns=rename_map)\n",
        "\n",
        "    added = 0\n",
        "    for i, r in new_df.iterrows():\n",
        "        nr = RowOut(\n",
        "            material          = _norm_str(r.get(\"formula\")) or _norm_str(r.get(\"material_id\")) or f\"Material_new_{i}\",\n",
        "            formula           = _norm_str(r.get(\"formula\")),\n",
        "            material_id       = _norm_str(r.get(\"material_id\")),\n",
        "            crystal_system    = _norm_str(r.get(\"crystal_system\")),\n",
        "            is_centrosymmetric= (bool(r[\"is_centrosymmetric\"]) if pd.notna(r.get(\"is_centrosymmetric\")) else None),\n",
        "            band_gap_eV       = (float(r[\"band_gap_eV\"]) if pd.notna(r.get(\"band_gap_eV\")) else None),\n",
        "        )\n",
        "        # idempotent + dedup-aware\n",
        "        ingest_normalized_row(nr, idx=1_000_000 + i, source_label=\"csv_import\", source_id=csv_path)\n",
        "        added += 1\n",
        "\n",
        "    if update_df:\n",
        "        global df\n",
        "        # naive append; optional real dedupe if you want:\n",
        "        # df = pd.concat([df, new_df], ignore_index=True).drop_duplicates(subset=[\"material_id\",\"formula\"], keep=\"first\")\n",
        "        df = pd.concat([df, new_df], ignore_index=True)\n",
        "\n",
        "    print(f\"Ingested {added} rows from {csv_path}. Triples now: {len(g)}\")\n",
        "    return added"
      ]
    },
    {
      "cell_type": "code",
      "execution_count": null,
      "id": "20b31ac5",
      "metadata": {},
      "outputs": [],
      "source": [
        "# Bulk ingest the whole DataFrame into the KG (no LLM; idempotent & dedup aware)\n",
        "\n",
        "import math\n",
        "\n",
        "def _get_str(x):\n",
        "    return str(x).strip() if x is not None and str(x).strip() not in {\"\", \"nan\", \"None\"} else None\n",
        "\n",
        "ingested = 0\n",
        "for i, r in df.iterrows():\n",
        "    nr = RowOut(\n",
        "        material = _get_str(r.get(\"formula\")) or _get_str(r.get(\"material_id\")) or f\"Material_{i}\",\n",
        "        formula  = _get_str(r.get(\"formula\")),\n",
        "        material_id = _get_str(r.get(\"material_id\")),\n",
        "        crystal_system = _get_str(r.get(\"crystal_system\")),\n",
        "        is_centrosymmetric = (bool(r[\"is_centrosymmetric\"]) if pd.notna(r.get(\"is_centrosymmetric\")) else None),\n",
        "        band_gap_eV = (float(r[\"band_gap_eV\"]) if pd.notna(r.get(\"band_gap_eV\")) else None),\n",
        "    )\n",
        "    ingest_normalized_row(nr, idx=i)\n",
        "    ingested += 1\n",
        "    if ingested % 2000 == 0:\n",
        "        print(f\"Ingested {ingested} rows… Triples: {len(g)}\")\n",
        "\n",
        "print(f\"Done. Ingested {ingested} rows total. Triples now: {len(g)}\")"
      ]
    }
  ],
  "metadata": {
    "kernelspec": {
      "display_name": ".venv",
      "language": "python",
      "name": "python3"
    },
    "language_info": {
      "codemirror_mode": {
        "name": "ipython",
        "version": 3
      },
      "file_extension": ".py",
      "mimetype": "text/x-python",
      "name": "python",
      "nbconvert_exporter": "python",
      "pygments_lexer": "ipython3",
      "version": "3.13.2"
    }
  },
  "nbformat": 4,
  "nbformat_minor": 5
}
