{
  "cells": [
    {
      "cell_type": "markdown",
      "metadata": {},
      "source": [
        "# Mini Materials Knowledge Graph — Common Semiconductors\n",
        "**What I'm building:** a tiny pipeline that turns a small semiconductors table into **RDF triples**, then I query it using **SPARQL**. I keep the ontology minimal and readable."
      ]
    },
    {
      "cell_type": "markdown",
      "metadata": {},
      "source": [
        "\n",
        "## Some basic terminologies\n",
        "- **Ontology** → my small schema + vocabulary for this domain (classes + relations).\n",
        "- **RDF (Resource Description Framework) triple** → one fact written as `subject — predicate — object`.\n",
        "- **Namespace** → URL prefix so my identifiers are unique.\n",
        "- **SPARQL** → my query tool for RDF graphs (like SQL but for triples).\n",
        "- **Turtle (.ttl)** → compact text format to store RDF.\n",
        "- **IRI(Internationalized Resource Identifier)** → a **Unicode string** that serves as a unique, global name or identifier for an entity.\n"
      ]
    },
    {
      "cell_type": "markdown",
      "id": "bfbaab76",
      "metadata": {},
      "source": [
        "**Imports**"
      ]
    },
    {
      "cell_type": "code",
      "execution_count": null,
      "id": "d4065d28",
      "metadata": {},
      "outputs": [
        {
          "name": "stdout",
          "output_type": "stream",
          "text": [
            "OK\n"
          ]
        }
      ],
      "source": [
        "# import os; print(\"OK\" if os.getenv(\"OPENAI_API_KEY\") else \"MISSING\")"
      ]
    },
    {
      "cell_type": "code",
      "execution_count": 12,
      "metadata": {},
      "outputs": [],
      "source": [
        "import pandas as pd\n",
        "from rdflib import Graph, Namespace, URIRef, Literal\n",
        "from rdflib.namespace import RDF, RDFS, XSD\n",
        "from pathlib import Path\n",
        "import re\n",
        "from dotenv import load_dotenv\n",
        "load_dotenv()\n",
        "import matplotlib.pyplot as plt\n",
        "import json, ast\n",
        "from matminer.featurizers.structure import GlobalSymmetryFeatures\n",
        "from pymatgen.core import Structure\n",
        "import openpyxl"
      ]
    },
    {
      "cell_type": "markdown",
      "id": "71fe023e",
      "metadata": {},
      "source": [
        "# 0) Dataset prep. for KG"
      ]
    },
    {
      "cell_type": "code",
      "execution_count": 16,
      "id": "3e90516f",
      "metadata": {},
      "outputs": [
        {
          "name": "stdout",
          "output_type": "stream",
          "text": [
            "Parsed 150987 / 150987 structures (100.0%).\n",
            "Saved: E:\\Projects\\Semantic_models_for-MSE\\data\\full_dataset_Bandgap_0_to_5_featurized.csv\n",
            "crystal_system        0.0\n",
            "is_centrosymmetric    0.0\n",
            "dtype: float64\n"
          ]
        },
        {
          "data": {
            "application/vnd.microsoft.datawrangler.viewer.v0+json": {
              "columns": [
                {
                  "name": "index",
                  "rawType": "int64",
                  "type": "integer"
                },
                {
                  "name": "material_id",
                  "rawType": "object",
                  "type": "string"
                },
                {
                  "name": "formula",
                  "rawType": "object",
                  "type": "string"
                },
                {
                  "name": "band_gap",
                  "rawType": "float64",
                  "type": "float"
                },
                {
                  "name": "structure",
                  "rawType": "object",
                  "type": "unknown"
                },
                {
                  "name": "crystal_system",
                  "rawType": "object",
                  "type": "string"
                },
                {
                  "name": "is_centrosymmetric",
                  "rawType": "bool",
                  "type": "boolean"
                }
              ],
              "ref": "900db425-51ed-49ba-998f-038547681b4f",
              "rows": [
                [
                  "0",
                  "mp-10018",
                  "Ac",
                  "0.0",
                  "Full Formula (Ac1)\nReduced Formula: Ac\nabc   :   4.027830   4.027829   4.027830\nangles:  59.999995  60.000001  59.999995\npbc   :       True       True       True\nSites (1)\n  #  SP      a    b    c\n---  ----  ---  ---  ---\n  0  Ac     -0   -0    0",
                  "cubic",
                  "True"
                ],
                [
                  "1",
                  "mp-1183057",
                  "Ac",
                  "0.0",
                  "Full Formula (Ac3)\nReduced Formula: Ac\nabc   :   4.002656   4.002656   9.803856\nangles:  90.000000  90.000000 120.000003\npbc   :       True       True       True\nSites (3)\n  #  SP           a         b         c\n---  ----  --------  --------  --------\n  0  Ac    0.655046  0.655046  0\n  1  Ac    0.344954  0         0.333333\n  2  Ac    0         0.344954  0.666667",
                  "trigonal",
                  "False"
                ],
                [
                  "2",
                  "mp-1183069",
                  "Ac",
                  "0.0",
                  "Full Formula (Ac3)\nReduced Formula: Ac\nabc   :   4.046863   4.046863  10.064235\nangles:  78.401536 101.598467 119.999995\npbc   :       True       True       True\nSites (3)\n  #  SP           a          b        c\n---  ----  --------  ---------  -------\n  0  Ac    0         -0         0\n  1  Ac    0.777359   0.222639  0.33208\n  2  Ac    0.22264    0.77736   0.66792",
                  "trigonal",
                  "True"
                ],
                [
                  "3",
                  "mp-862690",
                  "Ac",
                  "0.0",
                  "Full Formula (Ac4)\nReduced Formula: Ac\nabc   :   4.046041   4.046041  13.017036\nangles:  90.000000  90.000000 120.000008\npbc   :       True       True       True\nSites (4)\n  #  SP            a          b     c\n---  ----  ---------  ---------  ----\n  0  Ac    -0         -0         0\n  1  Ac     0.333334   0.666668  0.25\n  2  Ac    -0         -0         0.5\n  3  Ac     0.666667   0.333333  0.75",
                  "hexagonal",
                  "True"
                ],
                [
                  "4",
                  "mp-861724",
                  "Ac2AgIr",
                  "0.0",
                  "Full Formula (Ac2 Ag1 Ir1)\nReduced Formula: Ac2AgIr\nabc   :   5.380750   5.380750   5.380750\nangles:  60.000000  60.000000  60.000000\npbc   :       True       True       True\nSites (4)\n  #  SP            a          b          c\n---  ----  ---------  ---------  ---------\n  0  Ac     0.5        0.5        0.5\n  1  Ac    -0         -0         -0\n  2  Ag     0.250001   0.250001   0.250001\n  3  Ir     0.750001   0.750001   0.750001",
                  "cubic",
                  "True"
                ]
              ],
              "shape": {
                "columns": 6,
                "rows": 5
              }
            },
            "text/html": [
              "<div>\n",
              "<style scoped>\n",
              "    .dataframe tbody tr th:only-of-type {\n",
              "        vertical-align: middle;\n",
              "    }\n",
              "\n",
              "    .dataframe tbody tr th {\n",
              "        vertical-align: top;\n",
              "    }\n",
              "\n",
              "    .dataframe thead th {\n",
              "        text-align: right;\n",
              "    }\n",
              "</style>\n",
              "<table border=\"1\" class=\"dataframe\">\n",
              "  <thead>\n",
              "    <tr style=\"text-align: right;\">\n",
              "      <th></th>\n",
              "      <th>material_id</th>\n",
              "      <th>formula</th>\n",
              "      <th>band_gap</th>\n",
              "      <th>structure</th>\n",
              "      <th>crystal_system</th>\n",
              "      <th>is_centrosymmetric</th>\n",
              "    </tr>\n",
              "  </thead>\n",
              "  <tbody>\n",
              "    <tr>\n",
              "      <th>0</th>\n",
              "      <td>mp-10018</td>\n",
              "      <td>Ac</td>\n",
              "      <td>0.0</td>\n",
              "      <td>[[0. 0. 0.] Ac]</td>\n",
              "      <td>cubic</td>\n",
              "      <td>True</td>\n",
              "    </tr>\n",
              "    <tr>\n",
              "      <th>1</th>\n",
              "      <td>mp-1183057</td>\n",
              "      <td>Ac</td>\n",
              "      <td>0.0</td>\n",
              "      <td>[[1.31096178e+00 2.27065255e+00 3.21093059e-16...</td>\n",
              "      <td>trigonal</td>\n",
              "      <td>False</td>\n",
              "    </tr>\n",
              "    <tr>\n",
              "      <th>2</th>\n",
              "      <td>mp-1183069</td>\n",
              "      <td>Ac</td>\n",
              "      <td>0.0</td>\n",
              "      <td>[[0. 0. 0.] Ac, [2.65892229 0.77478234 2.89079...</td>\n",
              "      <td>trigonal</td>\n",
              "      <td>True</td>\n",
              "    </tr>\n",
              "    <tr>\n",
              "      <th>3</th>\n",
              "      <td>mp-862690</td>\n",
              "      <td>Ac</td>\n",
              "      <td>0.0</td>\n",
              "      <td>[[0. 0. 0.] Ac, [-3.26165376e-07  2.33598734e+...</td>\n",
              "      <td>hexagonal</td>\n",
              "      <td>True</td>\n",
              "    </tr>\n",
              "    <tr>\n",
              "      <th>4</th>\n",
              "      <td>mp-861724</td>\n",
              "      <td>Ac2AgIr</td>\n",
              "      <td>0.0</td>\n",
              "      <td>[[3.10657746 2.19668199 5.38075   ] Ac, [0. 0....</td>\n",
              "      <td>cubic</td>\n",
              "      <td>True</td>\n",
              "    </tr>\n",
              "  </tbody>\n",
              "</table>\n",
              "</div>"
            ],
            "text/plain": [
              "  material_id  formula  band_gap  \\\n",
              "0    mp-10018       Ac       0.0   \n",
              "1  mp-1183057       Ac       0.0   \n",
              "2  mp-1183069       Ac       0.0   \n",
              "3   mp-862690       Ac       0.0   \n",
              "4   mp-861724  Ac2AgIr       0.0   \n",
              "\n",
              "                                           structure crystal_system  \\\n",
              "0                                    [[0. 0. 0.] Ac]          cubic   \n",
              "1  [[1.31096178e+00 2.27065255e+00 3.21093059e-16...       trigonal   \n",
              "2  [[0. 0. 0.] Ac, [2.65892229 0.77478234 2.89079...       trigonal   \n",
              "3  [[0. 0. 0.] Ac, [-3.26165376e-07  2.33598734e+...      hexagonal   \n",
              "4  [[3.10657746 2.19668199 5.38075   ] Ac, [0. 0....          cubic   \n",
              "\n",
              "   is_centrosymmetric  \n",
              "0                True  \n",
              "1               False  \n",
              "2                True  \n",
              "3                True  \n",
              "4                True  "
            ]
          },
          "execution_count": 16,
          "metadata": {},
          "output_type": "execute_result"
        }
      ],
      "source": [
        "import pandas as pd\n",
        "import numpy as np\n",
        "import re\n",
        "from pathlib import Path\n",
        "from pymatgen.core import Structure, Lattice\n",
        "from matminer.featurizers.structure import GlobalSymmetryFeatures\n",
        "\n",
        "# -------- Paths (notebook in .../notebooks, data in .../data) ----------\n",
        "DATA_DIR   = Path(\"../data\").resolve()\n",
        "INPUT_XLSX = DATA_DIR / \"full_dataset_Bandgap_0_to_5.xlsx\"\n",
        "OUTPUT_CSV = DATA_DIR / \"full_dataset_Bandgap_0_to_5_featurized.csv\"\n",
        "\n",
        "# -------- Regex helpers for the pretty string ----------\n",
        "re_abc     = re.compile(r\"abc\\s*:\\s*([-\\d\\.Ee+]+)\\s+([-\\d\\.Ee+]+)\\s+([-\\d\\.Ee+]+)\", re.I)\n",
        "re_angles  = re.compile(r\"angles\\s*:\\s*([-\\d\\.Ee+]+)\\s+([-\\d\\.Ee+]+)\\s+([-\\d\\.Ee+]+)\", re.I)\n",
        "re_pbc     = re.compile(r\"pbc\\s*:\\s*(True|False)\\s+(True|False)\\s+(True|False)\", re.I)\n",
        "re_sites_header = re.compile(r\"Sites\\s*\\(\\d+\\)\", re.I)\n",
        "re_site_row = re.compile(\n",
        "    r\"^\\s*\\d+\\s+([A-Za-z][a-z]?)\\s+([-\\d\\.Ee+]+)\\s+([-\\d\\.Ee+]+)\\s+([-\\d\\.Ee+]+)\",\n",
        "    re.I\n",
        ")\n",
        "\n",
        "def parse_pretty_structure(txt):\n",
        "    \"\"\"Parse pymatgen's pretty-printed Structure summary into a Structure.\"\"\"\n",
        "    if not isinstance(txt, str):\n",
        "        return None\n",
        "    s = txt.strip()\n",
        "\n",
        "    # Lattice params\n",
        "    m_abc = re_abc.search(s)\n",
        "    m_ang = re_angles.search(s)\n",
        "    if not (m_abc and m_ang):\n",
        "        return None\n",
        "    a, b, c = map(float, m_abc.groups())\n",
        "    alpha, beta, gamma = map(float, m_ang.groups())\n",
        "\n",
        "    # PBC (optional; default True,True,True)\n",
        "    m_pbc = re_pbc.search(s)\n",
        "    pbc = tuple(map(lambda x: x.lower()==\"true\", m_pbc.groups())) if m_pbc else (True, True, True)\n",
        "\n",
        "    # Sites block: find header, then parse subsequent lines\n",
        "    lines = s.splitlines()\n",
        "    try:\n",
        "        start_idx = next(i for i, ln in enumerate(lines) if re_sites_header.search(ln))\n",
        "    except StopIteration:\n",
        "        return None\n",
        "\n",
        "    species, frac_coords = [], []\n",
        "    for ln in lines[start_idx+1:]:\n",
        "        m = re_site_row.match(ln)\n",
        "        if not m:\n",
        "            continue\n",
        "        sp, fa, fb, fc = m.groups()\n",
        "        species.append(sp)\n",
        "        frac_coords.append([float(fa), float(fb), float(fc)])\n",
        "\n",
        "    if not species:\n",
        "        return None\n",
        "\n",
        "    # Build lattice & structure\n",
        "    lat = Lattice.from_parameters(a=a, b=b, c=c, alpha=alpha, beta=beta, gamma=gamma)\n",
        "    try:\n",
        "        # pymatgen Structure ignores PBC per-axis in initializer; periodicity is assumed.\n",
        "        # If you truly need non-periodic axes, you'd manage it downstream; for symmetry it's fine.\n",
        "        struct = Structure(lattice=lat, species=species, coords=frac_coords, coords_are_cartesian=False)\n",
        "        return struct\n",
        "    except Exception:\n",
        "        return None\n",
        "\n",
        "# -------- Load Excel ----------\n",
        "df = pd.read_excel(INPUT_XLSX)\n",
        "\n",
        "# Choose/confirm structure column (adjust if yours is named differently)\n",
        "struct_col = \"structure\" if \"structure\" in df.columns else None\n",
        "if struct_col is None:\n",
        "    # try a best-guess search for a column that contains the pretty summary\n",
        "    candidates = [c for c in df.columns if df[c].astype(str).str.contains(r\"Full Formula|Reduced Formula|Sites \\(\", regex=True, na=False).any()]\n",
        "    struct_col = candidates[0] if candidates else None\n",
        "\n",
        "if struct_col is None:\n",
        "    raise ValueError(f\"Could not find the structure column. Available columns: {list(df.columns)}\")\n",
        "\n",
        "# -------- Parse structures --------\n",
        "parsed = df[struct_col].apply(parse_pretty_structure)\n",
        "\n",
        "parsed_ok = parsed.apply(lambda x: isinstance(x, Structure))\n",
        "print(f\"Parsed {parsed_ok.sum()} / {len(parsed)} structures ({100*parsed_ok.mean():.1f}%).\")\n",
        "\n",
        "if parsed_ok.sum() == 0:\n",
        "    raise RuntimeError(\"Parser could not reconstruct any structures from the pretty string format. \"\n",
        "                       \"Please share one exact cell (as plain text) or consider storing CIF/JSON for structures.\")\n",
        "\n",
        "# Replace column with parsed Structure objects\n",
        "df[struct_col] = parsed\n",
        "\n",
        "# -------- Featurize (two features only) --------\n",
        "gsf = GlobalSymmetryFeatures()\n",
        "labels = gsf.feature_labels()  # ['spacegroup_num','crystal_system','crystal_system_int','is_centrosymmetric','n_symmetry_ops']\n",
        "\n",
        "records = []\n",
        "for s in df[struct_col]:\n",
        "    if isinstance(s, Structure):\n",
        "        try:\n",
        "            vals = gsf.featurize(s)\n",
        "            rec = dict(zip(labels, vals))\n",
        "        except Exception:\n",
        "            rec = {lbl: np.nan for lbl in labels}\n",
        "    else:\n",
        "        rec = {lbl: np.nan for lbl in labels}\n",
        "    records.append(rec)\n",
        "\n",
        "feat_df = pd.DataFrame(records)\n",
        "out_df = pd.concat([df.reset_index(drop=True),\n",
        "                    feat_df[[\"crystal_system\", \"is_centrosymmetric\"]].reset_index(drop=True)], axis=1)\n",
        "\n",
        "# -------- Save --------\n",
        "out_df.to_csv(OUTPUT_CSV, index=False)\n",
        "print(f\"Saved: {OUTPUT_CSV}\")\n",
        "print(out_df[[\"crystal_system\", \"is_centrosymmetric\"]].isna().mean())\n",
        "out_df.head()"
      ]
    },
    {
      "cell_type": "markdown",
      "id": "093431dc",
      "metadata": {},
      "source": [
        "## 1) Setup\n",
        "read a tiny CSV and map it into RDF using `rdflib`.\n"
      ]
    },
    {
      "cell_type": "code",
      "execution_count": 17,
      "id": "0c77e382",
      "metadata": {},
      "outputs": [
        {
          "name": "stdout",
          "output_type": "stream",
          "text": [
            "Using data: E:\\Projects\\Semantic_models_for-MSE\\data\\full_dataset_Bandgap_0_to_5_featurized.csv\n",
            "Will write TTL: E:\\Projects\\Semantic_models_for-MSE\\data\\full_dataset_Bandgap_0_to_5.ttl\n"
          ]
        }
      ],
      "source": [
        "# DATA = Path(\"../data/semiconductors_small.csv\")   # CSV lives in the repo\n",
        "# TTL_OUT = Path(\"../data/semiconductors_small.ttl\")# RDF Turtle output\n",
        "# print(\"Using data:\", DATA.resolve())\n",
        "\n",
        "DATA    = Path(\"../data/full_dataset_Bandgap_0_to_5_featurized.csv\")  # input CSV\n",
        "TTL_OUT = Path(\"../data/full_dataset_Bandgap_0_to_5.ttl\")             # RDF Turtle output\n",
        "\n",
        "print(\"Using data:\", DATA.resolve())\n",
        "print(\"Will write TTL:\", TTL_OUT.resolve())"
      ]
    },
    {
      "cell_type": "markdown",
      "metadata": {},
      "source": [
        "\n",
        "## 2) Ontology skeleton (small and pragmatic)\n",
        "a few classes and properties that I actually need for the initial CSV i am using.  \n",
        "Classes: `Material`, `SynthesisMethod`, `CrystalStructure`, `Property`  \n",
        "Properties:  \n",
        "- data: `hasBandGap` (float eV), `hasLatticeConstant` (float Å)  \n",
        "- object: `hasCrystalStructure`, `synthesizedBy`\n",
        "\n",
        "- the final dataset will have: structure (crystal system and inversion center), composition and bandgap.  \n",
        "\n",
        "3 class declarations (Material, CrystalStructure, Property) → 3  \n",
        "4 property declarations (hasBandGap, hasFormula, hasExternalId, hasCrystalStructure) → 5  \n",
        "5×(domain + range) annotations → 10 for each prperty    \n",
        "Total = 3 + 5 + 10 = 18 triples."
      ]
    },
    {
      "cell_type": "code",
      "execution_count": 18,
      "metadata": {},
      "outputs": [
        {
          "name": "stdout",
          "output_type": "stream",
          "text": [
            "Ontology initialized (structure via crystal_system + inversion center, plus composition & bandgap).\n",
            "Triples so far: 18\n"
          ]
        }
      ],
      "source": [
        "# Ontology skeleton for: material_id, formula, band_gap, crystal_system, is_centrosymmetric\n",
        "# (structure captured via crystal system + inversion center only)\n",
        "\n",
        "from rdflib import Graph, Namespace, RDF, RDFS, XSD\n",
        "\n",
        "g = Graph()\n",
        "\n",
        "# Namespaces\n",
        "EX = Namespace(\"http://example.org/mse#\")\n",
        "g.bind(\"ex\", EX)\n",
        "g.bind(\"rdfs\", RDFS)\n",
        "g.bind(\"xsd\", XSD)\n",
        "\n",
        "# Classes\n",
        "Material         = EX.Material\n",
        "CrystalStructure = EX.CrystalStructure\n",
        "Property         = EX.Property  # generic placeholder\n",
        "\n",
        "for cls in [Material, CrystalStructure, Property]:\n",
        "    g.add((cls, RDF.type, RDFS.Class))\n",
        "\n",
        "# Datatype properties (aligned to featurized CSV)\n",
        "hasExternalId     = EX.hasExternalId        # -> material_id\n",
        "hasFormula        = EX.hasFormula           # -> formula (composition string)\n",
        "hasBandGap        = EX.hasBandGap           # -> band_gap (eV)\n",
        "hasCrystalSystem  = EX.hasCrystalSystem     # -> crystal_system (e.g., cubic, hexagonal)\n",
        "hasCentrosymmetric= EX.hasCentrosymmetric   # -> is_centrosymmetric (True/False)\n",
        "\n",
        "for prop in [hasExternalId, hasFormula, hasBandGap, hasCrystalSystem, hasCentrosymmetric]:\n",
        "    g.add((prop, RDF.type, RDF.Property))\n",
        "\n",
        "# Domain/Range annotations\n",
        "g.add((hasExternalId,      RDFS.domain, Material)); g.add((hasExternalId,      RDFS.range, XSD.string))\n",
        "g.add((hasFormula,         RDFS.domain, Material)); g.add((hasFormula,         RDFS.range, XSD.string))\n",
        "g.add((hasBandGap,         RDFS.domain, Material)); g.add((hasBandGap,         RDFS.range, XSD.float))\n",
        "g.add((hasCrystalSystem,   RDFS.domain, Material)); g.add((hasCrystalSystem,   RDFS.range, XSD.string))\n",
        "g.add((hasCentrosymmetric, RDFS.domain, Material)); g.add((hasCentrosymmetric, RDFS.range, XSD.boolean))\n",
        "\n",
        "print(\"Ontology initialized (structure via crystal_system + inversion center, plus composition & bandgap).\")\n",
        "print(\"Triples so far:\", len(g))"
      ]
    },
    {
      "cell_type": "markdown",
      "metadata": {},
      "source": [
        "## 3) Load CSV and mint entities  \n",
        "create IRIs (Internationalized Resource Identifier) from labels (simple normalization) and assert triples for each row."
      ]
    },
    {
      "cell_type": "code",
      "execution_count": 19,
      "metadata": {},
      "outputs": [
        {
          "name": "stdout",
          "output_type": "stream",
          "text": [
            "Data loaded. Rows: 150987\n",
            "Columns: ['material_id', 'formula', 'band_gap_eV', 'structure', 'crystal_system', 'is_centrosymmetric', 'material_label']\n"
          ]
        }
      ],
      "source": [
        "# --- 1) Read CSV and canonicalize headers for THIS project (no synthesis, no lattice const) ---\n",
        "# Featurized CSV columns: material_id, formula, band_gap, crystal_system, is_centrosymmetric\n",
        "import pandas as pd, re\n",
        "from rdflib import Literal, RDF, RDFS, XSD, URIRef\n",
        "\n",
        "# load\n",
        "df_raw = pd.read_csv(DATA)\n",
        "\n",
        "# rename to stable names my code will use everywhere\n",
        "df = df_raw.rename(columns={\n",
        "    \"material_id\":        \"material_id\",\n",
        "    \"formula\":            \"formula\",\n",
        "    \"band_gap\":           \"band_gap_eV\",\n",
        "    \"crystal_system\":     \"crystal_system\",\n",
        "    \"is_centrosymmetric\": \"is_centrosymmetric\",\n",
        "}).copy()\n",
        "\n",
        "# create a human label for the Material (use formula as the label)\n",
        "df[\"material_label\"] = df[\"formula\"]\n",
        "\n",
        "# enforce dtypes\n",
        "for col in [\"material_label\", \"formula\", \"material_id\", \"crystal_system\"]:\n",
        "    if col in df.columns:\n",
        "        df[col] = df[col].astype(\"string\")\n",
        "df[\"band_gap_eV\"] = pd.to_numeric(df.get(\"band_gap_eV\"), errors=\"coerce\")\n",
        "if \"is_centrosymmetric\" in df.columns:\n",
        "    # normalize truthy strings (e.g., \"True\"/\"FALSE\"/\"1\"/\"0\")\n",
        "    df[\"is_centrosymmetric\"] = df[\"is_centrosymmetric\"].map(\n",
        "        lambda x: bool(int(x)) if str(x).strip() in {\"1\",\"0\"} else\n",
        "                  (str(x).strip().lower() == \"true\") if pd.notna(x) else None\n",
        "    )\n",
        "\n",
        "# --- 2) Helpers (consistent across the notebook) ---\n",
        "def _slugify(text: str) -> str:\n",
        "    text = str(text).strip().replace(\" \", \"_\").replace(\"(\", \"\").replace(\")\", \"\").replace(\"/\", \"_\")\n",
        "    text = re.sub(r\"[^A-Za-z0-9_]\", \"_\", text)\n",
        "    return text\n",
        "\n",
        "def mint_entity(label, cls: URIRef, fallback_prefix: str, idx: int):\n",
        "    if label is None or (pd.isna(label) if hasattr(pd, \"isna\") else label is None) or str(label).strip() == \"\":\n",
        "        safe = f\"{fallback_prefix}_{idx}\"\n",
        "        iri  = EX[safe]\n",
        "        g.add((iri, RDF.type, cls))\n",
        "        g.add((iri, RDFS.label, Literal(f\"{fallback_prefix} #{idx}\")))\n",
        "        return iri\n",
        "    label_str = str(label)\n",
        "    safe = _slugify(label_str)\n",
        "    iri  = EX[safe]\n",
        "    g.add((iri, RDF.type, cls))\n",
        "    g.add((iri, RDFS.label, Literal(label_str)))\n",
        "    return iri\n",
        "\n",
        "print(\"Data loaded. Rows:\", len(df))\n",
        "print(\"Columns:\", list(df.columns))"
      ]
    },
    {
      "cell_type": "markdown",
      "metadata": {},
      "source": [
        "## 4) Serialize to Turtle\n",
        "write the RDF graph to a `.ttl` file so it’s versionable in Git and easy to inspect.\n"
      ]
    },
    {
      "cell_type": "code",
      "execution_count": 20,
      "metadata": {},
      "outputs": [
        {
          "name": "stdout",
          "output_type": "stream",
          "text": [
            "Wrote: E:\\Projects\\Semantic_models_for-MSE\\data\\full_dataset_Bandgap_0_to_5.ttl\n",
            "Triples in graph: 18\n",
            "File size (bytes): 768\n"
          ]
        }
      ],
      "source": [
        "# --- Serialize graph to Turtle ---\n",
        "# encoding=\"utf-8\" ensures rdflib returns bytes\n",
        "ttl_bytes = g.serialize(format=\"turtle\", encoding=\"utf-8\")\n",
        "TTL_OUT.write_bytes(ttl_bytes)\n",
        "\n",
        "# quick sanity check\n",
        "p = TTL_OUT.resolve()\n",
        "print(\"Wrote:\", p)\n",
        "print(\"Triples in graph:\", len(g))\n",
        "print(\"File size (bytes):\", p.stat().st_size)"
      ]
    },
    {
      "cell_type": "markdown",
      "metadata": {},
      "source": [
        "\n",
        "## 5) SPARQL queries (quick checks)\n",
        "query the in‑memory graph via `rdflib` to verify the ontology + data mapping.\n"
      ]
    },
    {
      "cell_type": "code",
      "execution_count": 41,
      "metadata": {},
      "outputs": [],
      "source": [
        "# Q1) Materials with band gap > 1 eV (descending)\n",
        "q1 = \"\"\"\n",
        "PREFIX ex: <http://example.org/mse#>\n",
        "SELECT ?formula ?id ?Eg\n",
        "WHERE {\n",
        "  ?m a ex:Material ;\n",
        "     rdfs:label ?formula ;\n",
        "     ex:hasBandGap ?Eg .\n",
        "  OPTIONAL { ?m ex:hasExternalId ?id }\n",
        "  FILTER(?Eg > 1.0)\n",
        "}\n",
        "ORDER BY DESC(?Eg)\n",
        "LIMIT 20\n",
        "\"\"\"\n",
        "for row in g.query(q1, initNs={\"rdfs\": RDFS}):\n",
        "    print(row)"
      ]
    },
    {
      "cell_type": "code",
      "execution_count": 7,
      "metadata": {},
      "outputs": [],
      "source": [
        "# Q2) Materials synthesized by MOCVD\n",
        "q2 = \"\"\"PREFIX ex: <http://example.org/mse#>\n",
        "SELECT ?material\n",
        "WHERE {\n",
        "  ?m a ex:Material ;\n",
        "     rdfs:label ?material ;\n",
        "     ex:synthesizedBy ?meth .\n",
        "  ?meth rdfs:label \"MOCVD\" .\n",
        "}\n",
        "\"\"\"\n",
        "for row in g.query(q2, initNs={\"rdfs\": RDFS}):\n",
        "    print(row)"
      ]
    },
    {
      "cell_type": "code",
      "execution_count": null,
      "metadata": {},
      "outputs": [],
      "source": [
        "# Q3) Materials with diamond cubic structure\n",
        "q3 = \"\"\"PREFIX ex: <http://example.org/mse#>\n",
        "SELECT ?material\n",
        "WHERE {\n",
        "  ?m a ex:Material ;\n",
        "     rdfs:label ?material ;\n",
        "     ex:hasCrystalStructure ?cs .\n",
        "  ?cs rdfs:label \"Diamond cubic\" .\n",
        "}\n",
        "\"\"\"\n",
        "for row in g.query(q3, initNs={\"rdfs\": RDFS}):\n",
        "    print(row)"
      ]
    },
    {
      "cell_type": "markdown",
      "metadata": {},
      "source": [
        "## 6) Creating safeguard for possible problems in data scrapping!!\n",
        "keep a few small rules here to catch obvious issues (labels missing, negative band gaps, etc.)."
      ]
    },
    {
      "cell_type": "code",
      "execution_count": 21,
      "metadata": {},
      "outputs": [
        {
          "name": "stdout",
          "output_type": "stream",
          "text": [
            "No obvious problems ✅\n"
          ]
        }
      ],
      "source": [
        "problems = []\n",
        "\n",
        "# A) All Materials should have labels\n",
        "for s in g.subjects(RDF.type, EX.Material):\n",
        "    if not any(True for _ in g.objects(s, RDFS.label)):\n",
        "        problems.append(f\"Material without label: {s}\")\n",
        "\n",
        "# B) Band gap must be numeric and non-negative\n",
        "for s, p, o in g.triples((None, EX.hasBandGap, None)):\n",
        "    try:\n",
        "        val = float(o.toPython())\n",
        "        if val < 0:\n",
        "            problems.append(f\"Negative band gap for {s}\")\n",
        "    except Exception:\n",
        "        problems.append(f\"Non-numeric band gap for {s}: {o}\")\n",
        "\n",
        "print(\"No obvious problems ✅\" if not problems else \"Consistency problems:\")\n",
        "for x in problems:\n",
        "    print(\"-\", x)"
      ]
    },
    {
      "cell_type": "markdown",
      "metadata": {},
      "source": [
        "\n",
        "## 7) Placeholder for LLM‑assisted extraction\n",
        "When I replace this stub with a real LLM/NLP call, I’ll feed abstracts/tables and get back candidate triples to add to the graph.\n"
      ]
    },
    {
      "cell_type": "code",
      "execution_count": 22,
      "metadata": {},
      "outputs": [
        {
          "name": "stdout",
          "output_type": "stream",
          "text": [
            "Triples after stub insert: 19\n"
          ]
        }
      ],
      "source": [
        "def propose_triples_from_text(text: str):\n",
        "    \"\"\"\n",
        "    Demo placeholder:\n",
        "    Pretend we parsed that 'GaN has Eg ~3.4 eV'.\n",
        "    Later this can be swapped for NLP/LLM-based extraction.\n",
        "    \"\"\"\n",
        "    return [(EX.GaN, EX.hasBandGap, Literal(3.4, datatype=XSD.float))]\n",
        "\n",
        "# Insert demo triples\n",
        "for s, p, o in propose_triples_from_text(\"GaN has band gap ~3.4 eV\"):\n",
        "    g.add((s, p, o))\n",
        "\n",
        "print(\"Triples after stub insert:\", len(g))"
      ]
    },
    {
      "cell_type": "markdown",
      "metadata": {},
      "source": [
        "\n",
        "## 8) Save again after updates\n",
        "I keep the TTL in sync with the in‑memory graph.\n"
      ]
    },
    {
      "cell_type": "code",
      "execution_count": 23,
      "metadata": {},
      "outputs": [
        {
          "name": "stdout",
          "output_type": "stream",
          "text": [
            "Updated: E:\\Projects\\Semantic_models_for-MSE\\data\\full_dataset_Bandgap_0_to_5.ttl\n",
            "Triples now in graph: 19\n"
          ]
        }
      ],
      "source": [
        "# --- Update the TTL file with new triples ---\n",
        "TTL_OUT.write_bytes(g.serialize(format=\"turtle\", encoding=\"utf-8\"))\n",
        "\n",
        "print(\"Updated:\", TTL_OUT.resolve())\n",
        "print(\"Triples now in graph:\", len(g))"
      ]
    },
    {
      "cell_type": "markdown",
      "id": "c1ec5b93",
      "metadata": {},
      "source": [
        "## 9: Plotting a knowledge graph"
      ]
    },
    {
      "cell_type": "code",
      "execution_count": 12,
      "id": "5ced5f92",
      "metadata": {},
      "outputs": [
        {
          "name": "stdout",
          "output_type": "stream",
          "text": [
            "kg.html\n",
            "Wrote: kg.html (open this file in your browser)\n"
          ]
        }
      ],
      "source": [
        "from pyvis.network import Network\n",
        "from rdflib import Graph, URIRef, BNode, Literal\n",
        "\n",
        "\n",
        "def display_label(term):\n",
        "    \"\"\"Human label for a node/edge: prefer rdfs:label, then QName, then short str.\"\"\"\n",
        "    lab = g.value(term, RDFS.label)\n",
        "    if lab:\n",
        "        return str(lab).strip()\n",
        "    # QName only for URIRefs\n",
        "    if isinstance(term, URIRef):\n",
        "        try:\n",
        "            return g.namespace_manager.normalizeUri(term)\n",
        "        except Exception:\n",
        "            pass\n",
        "    s = str(term).strip()\n",
        "    return s\n",
        "\n",
        "def node_id(term):\n",
        "    \"\"\"Stable ID for pyvis (avoid raw labels).\"\"\"\n",
        "    # Use actual URI for URIRefs/BNodes; fallback to hash\n",
        "    if isinstance(term, (URIRef, BNode)):\n",
        "        return str(term)\n",
        "    return f\"lit:{hash((str(term), type(term).__name__))}\"\n",
        "\n",
        "def node_style(term):\n",
        "    \"\"\"Color by class where possible (Material / CrystalStructure / SynthesisMethod).\"\"\"\n",
        "    # Try to infer from rdf:type (lightweight check)\n",
        "    types = set(g.objects(term, RDF.type)) if isinstance(term, (URIRef, BNode)) else set()\n",
        "    # Resolve EX namespace if present\n",
        "    ns = dict(g.namespace_manager.namespaces())\n",
        "    EX = ns.get(\"ex\")\n",
        "    def is_type(tname):\n",
        "        return any(str(t).endswith(f\"#{tname}\") or str(t).endswith(f\"/{tname}\") for t in types)\n",
        "    if is_type(\"Material\"):\n",
        "        return dict(color=\"#2b8a3e\", shape=\"ellipse\")\n",
        "    if is_type(\"CrystalStructure\"):\n",
        "        return dict(color=\"#1c7ed6\", shape=\"ellipse\")\n",
        "    if is_type(\"SynthesisMethod\"):\n",
        "        return dict(color=\"#e8590c\", shape=\"ellipse\")\n",
        "    if isinstance(term, Literal):\n",
        "        return dict(color=\"#bfbfbf\", shape=\"box\")\n",
        "    return dict(color=\"#666666\", shape=\"ellipse\")\n",
        "\n",
        "def visualize_graph_pyvis(g, max_edges=1500, show_literals=False, height=\"700px\"):\n",
        "    net = Network(height=height, width=\"100%\", directed=True, notebook=True,\n",
        "                  cdn_resources=\"in_line\")  # avoid the Jupyter warning\n",
        "    net.toggle_physics(True)\n",
        "\n",
        "    added = set()\n",
        "    edge_count = 0\n",
        "\n",
        "    for s, p, o in g.triples((None, None, None)):\n",
        "        if edge_count >= max_edges:\n",
        "            break\n",
        "\n",
        "        # skip literal nodes unless asked\n",
        "        if not show_literals and isinstance(o, Literal):\n",
        "            # still add edge to a small boxed literal if you like:\n",
        "            # continue\n",
        "            pass\n",
        "\n",
        "        sid = node_id(s); so = node_id(o)\n",
        "        if sid not in added:\n",
        "            net.add_node(sid, label=display_label(s), **node_style(s))\n",
        "            added.add(sid)\n",
        "        if show_literals or not isinstance(o, Literal):\n",
        "            if so not in added:\n",
        "                net.add_node(so, label=display_label(o), **node_style(o))\n",
        "                added.add(so)\n",
        "\n",
        "        net.add_edge(sid, so, label=display_label(p))\n",
        "        edge_count += 1\n",
        "\n",
        "    net.show(\"kg.html\")\n",
        "    print(\"Wrote: kg.html (open this file in your browser)\")\n",
        "\n",
        "visualize_graph_pyvis(g, max_edges=1000, show_literals=True)"
      ]
    },
    {
      "cell_type": "markdown",
      "id": "11b3bd6e",
      "metadata": {},
      "source": [
        "# Utilizing LLM (Chat GPT) for parsing"
      ]
    },
    {
      "cell_type": "markdown",
      "id": "56c4fd2c",
      "metadata": {},
      "source": [
        "*Quick smoke test*\n",
        "-Chat GPT: doesnt support api access for plus user."
      ]
    },
    {
      "cell_type": "code",
      "execution_count": 13,
      "id": "3bed8981",
      "metadata": {},
      "outputs": [],
      "source": [
        "# from openai import OpenAI\n",
        "# import os, json\n",
        "\n",
        "# assert os.getenv(\"OPENAI_API_KEY\"), \"API key missing\"\n",
        "# client = OpenAI()\n",
        "\n",
        "# resp = client.chat.completions.create(\n",
        "#     model=\"gpt-4o-mini\",\n",
        "#     response_format={\"type\": \"json_object\"},   # ← JSON mode\n",
        "#     messages=[\n",
        "#         {\"role\":\"system\",\"content\":\"Return valid JSON only.\"},\n",
        "#         {\"role\":\"user\",\"content\":\"Respond with {\\\"ok\\\": true}\"}\n",
        "#     ],\n",
        "#     temperature=0\n",
        "# )\n",
        "# print(json.loads(resp.choices[0].message.content))"
      ]
    },
    {
      "cell_type": "markdown",
      "id": "6297a69e",
      "metadata": {},
      "source": [
        "*Quick smoke test*  \n",
        "-OLLAMA offers llms to be run on local machines and an API."
      ]
    },
    {
      "cell_type": "code",
      "execution_count": 14,
      "id": "4ff91c11",
      "metadata": {},
      "outputs": [
        {
          "name": "stdout",
          "output_type": "stream",
          "text": [
            "{'ok': True}\n"
          ]
        }
      ],
      "source": [
        "import json, ollama\n",
        "r = ollama.chat(\n",
        "    model='llama3.2:3b',\n",
        "    messages=[{\"role\":\"system\",\"content\":\"Return ONLY valid JSON.\"},\n",
        "              {\"role\":\"user\",\"content\":'{\"ok\": true}'}],\n",
        "    format='json',\n",
        "    options={'temperature': 0}\n",
        ")\n",
        "print(json.loads(r['message']['content']))"
      ]
    },
    {
      "cell_type": "markdown",
      "id": "2126be6d",
      "metadata": {},
      "source": [
        "**Wiring 'ollama'into the pipeline.**  \n",
        "1. Schema"
      ]
    },
    {
      "cell_type": "code",
      "execution_count": 15,
      "id": "01ba9f82",
      "metadata": {},
      "outputs": [],
      "source": [
        "from pydantic import BaseModel, Field, ValidationError\n",
        "from typing import Optional\n",
        "\n",
        "class RowOut(BaseModel):\n",
        "    material: str\n",
        "    crystal_structure: str\n",
        "    typical_synthesis: str\n",
        "    band_gap_eV: Optional[float] = Field(default=None, ge=0)\n",
        "    lattice_const_A: Optional[float] = Field(default=None, ge=0)"
      ]
    },
    {
      "cell_type": "markdown",
      "id": "0845a93e",
      "metadata": {},
      "source": [
        "2. Building 'hints' from data"
      ]
    },
    {
      "cell_type": "code",
      "execution_count": 16,
      "id": "f7aa03a1",
      "metadata": {},
      "outputs": [],
      "source": [
        "# assumes your DataFrame is named df\n",
        "allowed_structs  = sorted(set(str(x).strip() for x in df['crystal_structure'].dropna()))\n",
        "allowed_methods  = sorted(set(str(x).strip() for x in df['typical_synthesis'].dropna()))"
      ]
    },
    {
      "cell_type": "markdown",
      "id": "e8da4c51",
      "metadata": {},
      "source": [
        "3. Normalization of data-row (that're gonna be parsed) with 'ollama'"
      ]
    },
    {
      "cell_type": "code",
      "execution_count": 17,
      "id": "10a1235b",
      "metadata": {},
      "outputs": [],
      "source": [
        "import json, ollama\n",
        "\n",
        "SYSTEM = f\"\"\"You are a materials KG assistant.\n",
        "Return ONLY JSON with keys exactly:\n",
        "material, crystal_structure, typical_synthesis, band_gap_eV, lattice_const_A.\n",
        "Rules:\n",
        "- Normalize names (e.g., crystal structure like 'Diamond' / 'Cubic').\n",
        "- Use null if a numeric field is unknown.\n",
        "- Units: band_gap_eV in eV; lattice_const_A in Å (floats).\n",
        "- Preferred crystal_structure values (if applicable): {allowed_structs}\n",
        "- Preferred typical_synthesis values (if applicable): {allowed_methods}\n",
        "\"\"\"\n",
        "\n",
        "def normalize_row_with_ollama(row: dict) -> RowOut:\n",
        "    msg = f\"Normalize this row to the schema: {row}\"\n",
        "    resp = ollama.chat(\n",
        "        model='llama3.2:3b',\n",
        "        messages=[{\"role\":\"system\",\"content\": SYSTEM},\n",
        "                  {\"role\":\"user\",\"content\": msg}],\n",
        "        format='json',                 # forces valid JSON\n",
        "        options={'temperature': 0}     # deterministic\n",
        "    )\n",
        "    data = json.loads(resp['message']['content'])\n",
        "    try:\n",
        "        return RowOut(**data)\n",
        "    except ValidationError:\n",
        "        # minimal fallback coercions\n",
        "        return RowOut(\n",
        "            material=str(data.get(\"material\",\"\")).strip() or \"Unknown\",\n",
        "            crystal_structure=str(data.get(\"crystal_structure\",\"\")).strip() or \"Unknown\",\n",
        "            typical_synthesis=str(data.get(\"typical_synthesis\",\"\")).strip() or \"Unknown\",\n",
        "            band_gap_eV=(float(data[\"band_gap_eV\"]) if data.get(\"band_gap_eV\") not in (None,\"\") else None),\n",
        "            lattice_const_A=(float(data[\"lattice_const_A\"]) if data.get(\"lattice_const_A\") not in (None,\"\") else None),\n",
        "        )"
      ]
    },
    {
      "cell_type": "markdown",
      "id": "a9936998",
      "metadata": {},
      "source": [
        "4. Appending normalized result into my graph"
      ]
    },
    {
      "cell_type": "code",
      "execution_count": 18,
      "id": "2dbbfe77",
      "metadata": {},
      "outputs": [],
      "source": [
        "from rdflib import Literal, XSD\n",
        "\n",
        "def ingest_normalized_row(nr: RowOut, idx: int = 0):\n",
        "    mat = mint_entity(nr.material,          Material,         \"Material\",         idx)\n",
        "    cs  = mint_entity(nr.crystal_structure,  CrystalStructure, \"CrystalStructure\", idx)\n",
        "    sm  = mint_entity(nr.typical_synthesis,  SynthesisMethod,  \"SynthesisMethod\",  idx)\n",
        "\n",
        "    if nr.band_gap_eV is not None:\n",
        "        g.add((mat, hasBandGap, Literal(float(nr.band_gap_eV), datatype=XSD.float)))\n",
        "    if nr.lattice_const_A is not None:\n",
        "        g.add((mat, hasLatticeConstant, Literal(float(nr.lattice_const_A), datatype=XSD.float)))\n",
        "\n",
        "    g.add((mat, hasCrystalStructure, cs))\n",
        "    g.add((mat, synthesizedBy, sm))"
      ]
    },
    {
      "cell_type": "markdown",
      "id": "7cb45929",
      "metadata": {},
      "source": [
        "5. Pre-Scale-up confirmations  \n",
        "a. Pipeline test"
      ]
    },
    {
      "cell_type": "code",
      "execution_count": 19,
      "id": "e240099d",
      "metadata": {},
      "outputs": [
        {
          "name": "stdout",
          "output_type": "stream",
          "text": [
            "Triples now: 26\n",
            "Triples after LLM ingest: 56\n"
          ]
        }
      ],
      "source": [
        "# single example\n",
        "sample = df.iloc[0].to_dict()\n",
        "nr = normalize_row_with_ollama(sample)\n",
        "ingest_normalized_row(nr, idx=0)\n",
        "print(\"Triples now:\", len(g))\n",
        "\n",
        "# small batch (e.g., first 5 rows) \n",
        "for i, r in df.head(5).iterrows():\n",
        "    nr = normalize_row_with_ollama(r.to_dict())\n",
        "    ingest_normalized_row(nr, idx=i)\n",
        "\n",
        "print(\"Triples after LLM ingest:\", len(g))"
      ]
    },
    {
      "cell_type": "code",
      "execution_count": 20,
      "id": "b63fdc4c",
      "metadata": {},
      "outputs": [],
      "source": [
        "# import inspect\n",
        "# print(inspect.signature(mint_entity))\n",
        "# print(mint_entity.__code__.co_filename, mint_entity.__code__.co_firstlineno)"
      ]
    },
    {
      "cell_type": "markdown",
      "id": "cf38a009",
      "metadata": {},
      "source": [
        "b. Quick peek to existing, parsed csv.  "
      ]
    },
    {
      "cell_type": "markdown",
      "id": "1b330740",
      "metadata": {},
      "source": [
        "b.1: load the dataframe"
      ]
    },
    {
      "cell_type": "code",
      "execution_count": 22,
      "id": "a43982ee",
      "metadata": {},
      "outputs": [
        {
          "name": "stdout",
          "output_type": "stream",
          "text": [
            "rows x cols: (7, 6)\n"
          ]
        },
        {
          "data": {
            "application/vnd.microsoft.datawrangler.viewer.v0+json": {
              "columns": [
                {
                  "name": "index",
                  "rawType": "int64",
                  "type": "integer"
                },
                {
                  "name": "material",
                  "rawType": "string",
                  "type": "string"
                },
                {
                  "name": "formula",
                  "rawType": "object",
                  "type": "unknown"
                },
                {
                  "name": "band_gap_eV",
                  "rawType": "float64",
                  "type": "float"
                },
                {
                  "name": "crystal_structure",
                  "rawType": "string",
                  "type": "string"
                },
                {
                  "name": "lattice_const_A",
                  "rawType": "float64",
                  "type": "float"
                },
                {
                  "name": "typical_synthesis",
                  "rawType": "string",
                  "type": "string"
                }
              ],
              "ref": "8e159e96-8a58-44ac-9200-e3522fdbaa3f",
              "rows": [
                [
                  "0",
                  "Silicon",
                  "Si",
                  "1.12",
                  "Diamond cubic",
                  "5.431",
                  "Czochralski"
                ],
                [
                  "1",
                  "Germanium",
                  "Ge",
                  "0.66",
                  "Diamond cubic",
                  "5.658",
                  "Czochralski"
                ],
                [
                  "2",
                  "Gallium Arsenide",
                  "GaAs",
                  "1.42",
                  "Zinc blende",
                  "5.653",
                  "MBE"
                ],
                [
                  "3",
                  "Indium Phosphide",
                  "InP",
                  "1.34",
                  "Zinc blende",
                  "5.869",
                  "MOCVD"
                ],
                [
                  "4",
                  "Gallium Nitride",
                  "GaN",
                  "3.4",
                  "Wurtzite",
                  "3.189",
                  "MOCVD"
                ],
                [
                  "5",
                  "Silicon Carbide (4H)",
                  "SiC",
                  "3.26",
                  "Hexagonal",
                  "3.073",
                  "PVT"
                ],
                [
                  "6",
                  null,
                  null,
                  null,
                  null,
                  null,
                  null
                ]
              ],
              "shape": {
                "columns": 6,
                "rows": 7
              }
            },
            "text/html": [
              "<div>\n",
              "<style scoped>\n",
              "    .dataframe tbody tr th:only-of-type {\n",
              "        vertical-align: middle;\n",
              "    }\n",
              "\n",
              "    .dataframe tbody tr th {\n",
              "        vertical-align: top;\n",
              "    }\n",
              "\n",
              "    .dataframe thead th {\n",
              "        text-align: right;\n",
              "    }\n",
              "</style>\n",
              "<table border=\"1\" class=\"dataframe\">\n",
              "  <thead>\n",
              "    <tr style=\"text-align: right;\">\n",
              "      <th></th>\n",
              "      <th>material</th>\n",
              "      <th>formula</th>\n",
              "      <th>band_gap_eV</th>\n",
              "      <th>crystal_structure</th>\n",
              "      <th>lattice_const_A</th>\n",
              "      <th>typical_synthesis</th>\n",
              "    </tr>\n",
              "  </thead>\n",
              "  <tbody>\n",
              "    <tr>\n",
              "      <th>0</th>\n",
              "      <td>Silicon</td>\n",
              "      <td>Si</td>\n",
              "      <td>1.12</td>\n",
              "      <td>Diamond cubic</td>\n",
              "      <td>5.431</td>\n",
              "      <td>Czochralski</td>\n",
              "    </tr>\n",
              "    <tr>\n",
              "      <th>1</th>\n",
              "      <td>Germanium</td>\n",
              "      <td>Ge</td>\n",
              "      <td>0.66</td>\n",
              "      <td>Diamond cubic</td>\n",
              "      <td>5.658</td>\n",
              "      <td>Czochralski</td>\n",
              "    </tr>\n",
              "    <tr>\n",
              "      <th>2</th>\n",
              "      <td>Gallium Arsenide</td>\n",
              "      <td>GaAs</td>\n",
              "      <td>1.42</td>\n",
              "      <td>Zinc blende</td>\n",
              "      <td>5.653</td>\n",
              "      <td>MBE</td>\n",
              "    </tr>\n",
              "    <tr>\n",
              "      <th>3</th>\n",
              "      <td>Indium Phosphide</td>\n",
              "      <td>InP</td>\n",
              "      <td>1.34</td>\n",
              "      <td>Zinc blende</td>\n",
              "      <td>5.869</td>\n",
              "      <td>MOCVD</td>\n",
              "    </tr>\n",
              "    <tr>\n",
              "      <th>4</th>\n",
              "      <td>Gallium Nitride</td>\n",
              "      <td>GaN</td>\n",
              "      <td>3.40</td>\n",
              "      <td>Wurtzite</td>\n",
              "      <td>3.189</td>\n",
              "      <td>MOCVD</td>\n",
              "    </tr>\n",
              "    <tr>\n",
              "      <th>5</th>\n",
              "      <td>Silicon Carbide (4H)</td>\n",
              "      <td>SiC</td>\n",
              "      <td>3.26</td>\n",
              "      <td>Hexagonal</td>\n",
              "      <td>3.073</td>\n",
              "      <td>PVT</td>\n",
              "    </tr>\n",
              "    <tr>\n",
              "      <th>6</th>\n",
              "      <td>&lt;NA&gt;</td>\n",
              "      <td>NaN</td>\n",
              "      <td>NaN</td>\n",
              "      <td>&lt;NA&gt;</td>\n",
              "      <td>NaN</td>\n",
              "      <td>&lt;NA&gt;</td>\n",
              "    </tr>\n",
              "  </tbody>\n",
              "</table>\n",
              "</div>"
            ],
            "text/plain": [
              "               material formula  band_gap_eV crystal_structure  \\\n",
              "0               Silicon      Si         1.12     Diamond cubic   \n",
              "1             Germanium      Ge         0.66     Diamond cubic   \n",
              "2      Gallium Arsenide    GaAs         1.42       Zinc blende   \n",
              "3      Indium Phosphide     InP         1.34       Zinc blende   \n",
              "4       Gallium Nitride     GaN         3.40          Wurtzite   \n",
              "5  Silicon Carbide (4H)     SiC         3.26         Hexagonal   \n",
              "6                  <NA>     NaN          NaN              <NA>   \n",
              "\n",
              "   lattice_const_A typical_synthesis  \n",
              "0            5.431       Czochralski  \n",
              "1            5.658       Czochralski  \n",
              "2            5.653               MBE  \n",
              "3            5.869             MOCVD  \n",
              "4            3.189             MOCVD  \n",
              "5            3.073               PVT  \n",
              "6              NaN              <NA>  "
            ]
          },
          "execution_count": 22,
          "metadata": {},
          "output_type": "execute_result"
        }
      ],
      "source": [
        "import pandas as pd\n",
        "import numpy as np\n",
        "\n",
        "# if df already exists, keep it; else read it in consistently\n",
        "try:\n",
        "    df\n",
        "    assert all(c in df.columns for c in [\"material\",\"crystal_structure\",\"typical_synthesis\",\"band_gap_eV\",\"lattice_const_A\"])\n",
        "except:\n",
        "    # NOTE: DATA should already point to your CSV path from earlier cells.\n",
        "    # if not, set DATA = \"path/to/semiconductors_small.csv\"\n",
        "    STRING_COLS = [\"material\", \"crystal_structure\", \"typical_synthesis\"]\n",
        "    df = pd.read_csv(DATA, dtype={col: \"string\" for col in STRING_COLS})\n",
        "    df[\"band_gap_eV\"]     = pd.to_numeric(df.get(\"band_gap_eV\"), errors=\"coerce\")\n",
        "    df[\"lattice_const_A\"] = pd.to_numeric(df.get(\"lattice_const_A\"), errors=\"coerce\")\n",
        "\n",
        "print(\"rows x cols:\", df.shape)\n",
        "df.head(8)"
      ]
    },
    {
      "cell_type": "markdown",
      "id": "9b6bf754",
      "metadata": {},
      "source": [
        "b.2: dtypes, missingness, quick uniqueness"
      ]
    },
    {
      "cell_type": "code",
      "execution_count": 23,
      "id": "ac49d92d",
      "metadata": {},
      "outputs": [
        {
          "name": "stdout",
          "output_type": "stream",
          "text": [
            "dtypes:\n",
            " material             string[python]\n",
            "formula                      object\n",
            "band_gap_eV                 float64\n",
            "crystal_structure    string[python]\n",
            "lattice_const_A             float64\n",
            "typical_synthesis    string[python]\n",
            "dtype: object \n",
            "\n",
            "missing values:\n",
            " material             1\n",
            "formula              1\n",
            "band_gap_eV          1\n",
            "crystal_structure    1\n",
            "lattice_const_A      1\n",
            "typical_synthesis    1\n",
            "dtype: int64 \n",
            "\n",
            "unique material: 6\n",
            "unique crystal_structure: 4\n",
            "unique typical_synthesis: 4\n"
          ]
        }
      ],
      "source": [
        "print(\"dtypes:\\n\", df.dtypes, \"\\n\")\n",
        "\n",
        "print(\"missing values:\\n\", df.isna().sum(), \"\\n\")\n",
        "\n",
        "for col in [\"material\",\"crystal_structure\",\"typical_synthesis\"]:\n",
        "    if col in df.columns:\n",
        "        uniq = df[col].dropna().nunique()\n",
        "        print(f\"unique {col}: {uniq}\")"
      ]
    },
    {
      "cell_type": "markdown",
      "id": "02a4d25a",
      "metadata": {},
      "source": [
        "b.3: numeric summary"
      ]
    },
    {
      "cell_type": "code",
      "execution_count": 24,
      "id": "43b36e64",
      "metadata": {},
      "outputs": [
        {
          "data": {
            "application/vnd.microsoft.datawrangler.viewer.v0+json": {
              "columns": [
                {
                  "name": "index",
                  "rawType": "object",
                  "type": "string"
                },
                {
                  "name": "count",
                  "rawType": "float64",
                  "type": "float"
                },
                {
                  "name": "mean",
                  "rawType": "float64",
                  "type": "float"
                },
                {
                  "name": "std",
                  "rawType": "float64",
                  "type": "float"
                },
                {
                  "name": "min",
                  "rawType": "float64",
                  "type": "float"
                },
                {
                  "name": "5%",
                  "rawType": "float64",
                  "type": "float"
                },
                {
                  "name": "25%",
                  "rawType": "float64",
                  "type": "float"
                },
                {
                  "name": "50%",
                  "rawType": "float64",
                  "type": "float"
                },
                {
                  "name": "75%",
                  "rawType": "float64",
                  "type": "float"
                },
                {
                  "name": "95%",
                  "rawType": "float64",
                  "type": "float"
                },
                {
                  "name": "max",
                  "rawType": "float64",
                  "type": "float"
                }
              ],
              "ref": "bd6d24e3-4cde-4a46-a62a-d5fb32de1b00",
              "rows": [
                [
                  "band_gap_eV",
                  "6.0",
                  "1.8666666666666665",
                  "1.164726004975705",
                  "0.66",
                  "0.775",
                  "1.175",
                  "1.38",
                  "2.8",
                  "3.3649999999999998",
                  "3.4"
                ],
                [
                  "lattice_const_A",
                  "6.0",
                  "4.812166666666667",
                  "1.3100883049117975",
                  "3.073",
                  "3.102",
                  "3.7495000000000003",
                  "5.542",
                  "5.656750000000001",
                  "5.81625",
                  "5.869"
                ]
              ],
              "shape": {
                "columns": 10,
                "rows": 2
              }
            },
            "text/html": [
              "<div>\n",
              "<style scoped>\n",
              "    .dataframe tbody tr th:only-of-type {\n",
              "        vertical-align: middle;\n",
              "    }\n",
              "\n",
              "    .dataframe tbody tr th {\n",
              "        vertical-align: top;\n",
              "    }\n",
              "\n",
              "    .dataframe thead th {\n",
              "        text-align: right;\n",
              "    }\n",
              "</style>\n",
              "<table border=\"1\" class=\"dataframe\">\n",
              "  <thead>\n",
              "    <tr style=\"text-align: right;\">\n",
              "      <th></th>\n",
              "      <th>count</th>\n",
              "      <th>mean</th>\n",
              "      <th>std</th>\n",
              "      <th>min</th>\n",
              "      <th>5%</th>\n",
              "      <th>25%</th>\n",
              "      <th>50%</th>\n",
              "      <th>75%</th>\n",
              "      <th>95%</th>\n",
              "      <th>max</th>\n",
              "    </tr>\n",
              "  </thead>\n",
              "  <tbody>\n",
              "    <tr>\n",
              "      <th>band_gap_eV</th>\n",
              "      <td>6.0</td>\n",
              "      <td>1.866667</td>\n",
              "      <td>1.164726</td>\n",
              "      <td>0.660</td>\n",
              "      <td>0.775</td>\n",
              "      <td>1.1750</td>\n",
              "      <td>1.380</td>\n",
              "      <td>2.80000</td>\n",
              "      <td>3.36500</td>\n",
              "      <td>3.400</td>\n",
              "    </tr>\n",
              "    <tr>\n",
              "      <th>lattice_const_A</th>\n",
              "      <td>6.0</td>\n",
              "      <td>4.812167</td>\n",
              "      <td>1.310088</td>\n",
              "      <td>3.073</td>\n",
              "      <td>3.102</td>\n",
              "      <td>3.7495</td>\n",
              "      <td>5.542</td>\n",
              "      <td>5.65675</td>\n",
              "      <td>5.81625</td>\n",
              "      <td>5.869</td>\n",
              "    </tr>\n",
              "  </tbody>\n",
              "</table>\n",
              "</div>"
            ],
            "text/plain": [
              "                 count      mean       std    min     5%     25%    50%  \\\n",
              "band_gap_eV        6.0  1.866667  1.164726  0.660  0.775  1.1750  1.380   \n",
              "lattice_const_A    6.0  4.812167  1.310088  3.073  3.102  3.7495  5.542   \n",
              "\n",
              "                     75%      95%    max  \n",
              "band_gap_eV      2.80000  3.36500  3.400  \n",
              "lattice_const_A  5.65675  5.81625  5.869  "
            ]
          },
          "metadata": {},
          "output_type": "display_data"
        }
      ],
      "source": [
        "num_cols = [\"band_gap_eV\", \"lattice_const_A\"]\n",
        "display(df[num_cols].describe(percentiles=[.05,.25,.5,.75,.95]).T)"
      ]
    },
    {
      "cell_type": "markdown",
      "id": "38fd4a86",
      "metadata": {},
      "source": [
        "b.4: histograms (for lattice constant & bandgaps)"
      ]
    },
    {
      "cell_type": "code",
      "execution_count": 27,
      "id": "4dcf8f69",
      "metadata": {},
      "outputs": [
        {
          "data": {
            "image/png": "[encoded data removed]",
            "text/plain": [
              "<Figure size 640x480 with 1 Axes>"
            ]
          },
          "metadata": {},
          "output_type": "display_data"
        },
        {
          "data": {
            "image/png": "[encoded data removed]",
            "text/plain": [
              "<Figure size 640x480 with 1 Axes>"
            ]
          },
          "metadata": {},
          "output_type": "display_data"
        }
      ],
      "source": [
        "import matplotlib.pyplot as plt\n",
        "\n",
        "for col in [\"band_gap_eV\", \"lattice_const_A\"]:\n",
        "    series = df[col].dropna()\n",
        "    plt.figure()\n",
        "    plt.hist(series, bins=20)\n",
        "    plt.xlabel(col)\n",
        "    plt.ylabel(\"count\")\n",
        "    plt.title(f\"histogram: {col}\")\n",
        "    plt.tight_layout()\n",
        "    plt.show()\n"
      ]
    },
    {
      "cell_type": "markdown",
      "id": "d37a42e5",
      "metadata": {},
      "source": [
        "b.5: Top categories (by structure & synthesis route)"
      ]
    },
    {
      "cell_type": "code",
      "execution_count": 28,
      "id": "e9f10d24",
      "metadata": {},
      "outputs": [
        {
          "name": "stdout",
          "output_type": "stream",
          "text": [
            "\n",
            "Top 15 crystal_structure:\n",
            " crystal_structure\n",
            "Diamond cubic    2\n",
            "Zinc blende      2\n",
            "Wurtzite         1\n",
            "Hexagonal        1\n",
            "Name: count, dtype: Int64\n"
          ]
        },
        {
          "data": {
            "image/png": "[encoded data removed]",
            "text/plain": [
              "<Figure size 800x400 with 1 Axes>"
            ]
          },
          "metadata": {},
          "output_type": "display_data"
        },
        {
          "name": "stdout",
          "output_type": "stream",
          "text": [
            "\n",
            "Top 15 typical_synthesis:\n",
            " typical_synthesis\n",
            "Czochralski    2\n",
            "MOCVD          2\n",
            "MBE            1\n",
            "PVT            1\n",
            "Name: count, dtype: Int64\n"
          ]
        },
        {
          "data": {
            "image/png": "[encoded data removed]",
            "text/plain": [
              "<Figure size 800x400 with 1 Axes>"
            ]
          },
          "metadata": {},
          "output_type": "display_data"
        }
      ],
      "source": [
        "for col, k in [(\"crystal_structure\", 15), (\"typical_synthesis\", 15)]:\n",
        "    if col in df.columns:\n",
        "        counts = df[col].dropna().value_counts().head(k)\n",
        "        print(f\"\\nTop {k} {col}:\\n\", counts)\n",
        "        plt.figure(figsize=(8, 4))\n",
        "        counts[::-1].plot(kind=\"barh\")  # horizontal for readability\n",
        "        plt.title(f\"top {k}: {col}\")\n",
        "        plt.xlabel(\"count\")\n",
        "        plt.tight_layout()\n",
        "        plt.show()\n"
      ]
    },
    {
      "cell_type": "markdown",
      "id": "9123d8c0",
      "metadata": {},
      "source": [
        "b.6: Scatter plot between lattice parameter and bandgap"
      ]
    },
    {
      "cell_type": "code",
      "execution_count": 29,
      "id": "60173015",
      "metadata": {},
      "outputs": [
        {
          "data": {
            "image/png": "[encoded data removed]",
            "text/plain": [
              "<Figure size 640x480 with 1 Axes>"
            ]
          },
          "metadata": {},
          "output_type": "display_data"
        },
        {
          "name": "stdout",
          "output_type": "stream",
          "text": [
            "pearson r ≈ -0.960  (quick linear correlation)\n"
          ]
        }
      ],
      "source": [
        "x = df[\"lattice_const_A\"]\n",
        "y = df[\"band_gap_eV\"]\n",
        "mask = x.notna() & y.notna()\n",
        "\n",
        "plt.figure()\n",
        "plt.scatter(x[mask], y[mask], s=20)\n",
        "plt.xlabel(\"lattice_const_A (Å)\")\n",
        "plt.ylabel(\"band_gap_eV (eV)\")\n",
        "plt.title(\"lattice constant vs band gap\")\n",
        "plt.tight_layout()\n",
        "plt.show()\n",
        "\n",
        "if mask.sum() >= 2:\n",
        "    r = np.corrcoef(x[mask], y[mask])[0,1]\n",
        "    print(f\"pearson r ≈ {r:.3f}  (quick linear correlation)\")\n"
      ]
    },
    {
      "cell_type": "markdown",
      "id": "e424771b",
      "metadata": {},
      "source": [
        "### looks sane → scale up with ollama\n",
        "\n",
        "- i checked rows, types, missingness, distributions, and top categories.\n",
        "- next: batch LLM normalization → mint IRIs → add triples.\n",
        "- i’ll start small (e.g., 50 rows) and then go full dataset if everything behaves."
      ]
    },
    {
      "cell_type": "code",
      "execution_count": 30,
      "id": "a2cdfc91",
      "metadata": {},
      "outputs": [
        {
          "name": "stdout",
          "output_type": "stream",
          "text": [
            "normalizing rows [0:7) ...\n",
            "done. added ~7 rows. triples now: 70\n"
          ]
        }
      ],
      "source": [
        "def normalize_batch(df, n=50, start=0):\n",
        "    end = min(start + n, len(df))\n",
        "    print(f\"normalizing rows [{start}:{end}) ...\")\n",
        "    added = 0\n",
        "    for i, row in df.iloc[start:end].iterrows():\n",
        "        try:\n",
        "            nr = normalize_row_with_ollama(row.to_dict())\n",
        "            ingest_normalized_row(nr, idx=int(i))\n",
        "            added += 1\n",
        "            if added % 10 == 0:\n",
        "                print(f\"  +{added} rows -> triples: {len(g)}\")\n",
        "        except Exception as e:\n",
        "            print(f\"[warn] row {i}: {e}\")\n",
        "    print(f\"done. added ~{added} rows. triples now: {len(g)}\")\n",
        "\n",
        "# try 50 first; adjust n as you like\n",
        "normalize_batch(df, n=50, start=0)"
      ]
    }
  ],
  "metadata": {
    "kernelspec": {
      "display_name": ".venv",
      "language": "python",
      "name": "python3"
    },
    "language_info": {
      "codemirror_mode": {
        "name": "ipython",
        "version": 3
      },
      "file_extension": ".py",
      "mimetype": "text/x-python",
      "name": "python",
      "nbconvert_exporter": "python",
      "pygments_lexer": "ipython3",
      "version": "3.13.2"
    }
  },
  "nbformat": 4,
  "nbformat_minor": 5
}
